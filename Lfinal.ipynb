{
  "nbformat": 4,
  "nbformat_minor": 0,
  "metadata": {
    "colab": {
      "name": "Lfinal.ipynb",
      "provenance": [],
      "mount_file_id": "13yUxcTjusmRv_VsOPAdJpTiuYyvNI_6d",
      "authorship_tag": "ABX9TyNZNvNQFL1hfMlZhsU5LgZM",
      "include_colab_link": true
    },
    "kernelspec": {
      "name": "python3",
      "display_name": "Python 3"
    },
    "language_info": {
      "name": "python"
    }
  },
  "cells": [
    {
      "cell_type": "markdown",
      "metadata": {
        "id": "view-in-github",
        "colab_type": "text"
      },
      "source": [
        "<a href=\"https://colab.research.google.com/github/tafataghiles/Base-de-donn-es/blob/master/Lfinal.ipynb\" target=\"_parent\"><img src=\"https://colab.research.google.com/assets/colab-badge.svg\" alt=\"Open In Colab\"/></a>"
      ]
    },
    {
      "cell_type": "code",
      "metadata": {
        "id": "o3mdRlVN5PTW"
      },
      "source": [
        "#importing libraries\n",
        "import numpy as np\n",
        "import pandas as pd\n",
        "import matplotlib.pyplot as plt\n",
        "import seaborn as sns\n",
        " \n",
        "from sklearn.preprocessing import StandardScaler\n",
        "from sklearn.preprocessing import LabelEncoder\n",
        "\n",
        "from sklearn.linear_model import LinearRegression\n",
        "from sklearn.pipeline import make_pipeline\n",
        "from sklearn.model_selection import StratifiedShuffleSplit, StratifiedKFold\n",
        "from sklearn.model_selection import cross_val_score\n",
        "from sklearn.model_selection import train_test_split\n",
        "from sklearn.metrics import accuracy_score\n",
        "from sklearn.model_selection import GridSearchCV\n",
        "from sklearn.naive_bayes import GaussianNB\n",
        "from sklearn.linear_model import Perceptron\n",
        "from sklearn.svm import SVC, LinearSVC\n",
        "from sklearn.linear_model import SGDClassifier\n",
        "from sklearn.tree import DecisionTreeClassifier\n",
        "from sklearn.ensemble import RandomForestClassifier\n",
        " \n",
        "from sklearn.linear_model import LogisticRegression\n",
        "from sklearn.neighbors import KNeighborsClassifier\n",
        "from sklearn.svm import SVC\n",
        "from sklearn.ensemble import RandomForestClassifier\n",
        "import xgboost as xgb\n",
        " \n",
        "from sklearn.metrics import confusion_matrix, classification_report\n",
        " \n",
        " \n",
        " \n",
        "from yellowbrick.classifier import ROCAUC, PrecisionRecallCurve, ClassificationReport\n",
        "from yellowbrick.model_selection import LearningCurve, ValidationCurve, learning_curve\n",
        " \n",
        " \n",
        "import warnings\n",
        "warnings.filterwarnings(action=\"ignore\")"
      ],
      "execution_count": 99,
      "outputs": []
    },
    {
      "cell_type": "code",
      "metadata": {
        "id": "alHi_rOg5myc"
      },
      "source": [
        "#Chargé la base de données \n",
        "df = pd.read_excel ('/content/drive/MyDrive/PrLotfi.xlsx')"
      ],
      "execution_count": 2,
      "outputs": []
    },
    {
      "cell_type": "code",
      "metadata": {
        "colab": {
          "base_uri": "https://localhost:8080/",
          "height": 419
        },
        "id": "sdE-sKxv5zxv",
        "outputId": "09e4aee7-a8e7-492c-98d7-92f8e90e2d5f"
      },
      "source": [
        "df "
      ],
      "execution_count": 3,
      "outputs": [
        {
          "output_type": "execute_result",
          "data": {
            "text/html": [
              "<div>\n",
              "<style scoped>\n",
              "    .dataframe tbody tr th:only-of-type {\n",
              "        vertical-align: middle;\n",
              "    }\n",
              "\n",
              "    .dataframe tbody tr th {\n",
              "        vertical-align: top;\n",
              "    }\n",
              "\n",
              "    .dataframe thead th {\n",
              "        text-align: right;\n",
              "    }\n",
              "</style>\n",
              "<table border=\"1\" class=\"dataframe\">\n",
              "  <thead>\n",
              "    <tr style=\"text-align: right;\">\n",
              "      <th></th>\n",
              "      <th>techno</th>\n",
              "      <th>surface m²</th>\n",
              "      <th>% surface</th>\n",
              "      <th>longueur m</th>\n",
              "      <th>% longueur</th>\n",
              "      <th>epaisseur</th>\n",
              "      <th>TOTAL</th>\n",
              "      <th>PIECE</th>\n",
              "    </tr>\n",
              "  </thead>\n",
              "  <tbody>\n",
              "    <tr>\n",
              "      <th>0</th>\n",
              "      <td>CONTACT</td>\n",
              "      <td>4.07</td>\n",
              "      <td>0.1</td>\n",
              "      <td>7.22</td>\n",
              "      <td>0.1</td>\n",
              "      <td>4.0</td>\n",
              "      <td>7322.0</td>\n",
              "      <td>449.0</td>\n",
              "    </tr>\n",
              "    <tr>\n",
              "      <th>1</th>\n",
              "      <td>CONTACT</td>\n",
              "      <td>2.37</td>\n",
              "      <td>0.1</td>\n",
              "      <td>5.50</td>\n",
              "      <td>0.1</td>\n",
              "      <td>4.0</td>\n",
              "      <td>8897.0</td>\n",
              "      <td>315.0</td>\n",
              "    </tr>\n",
              "    <tr>\n",
              "      <th>2</th>\n",
              "      <td>CONTACT</td>\n",
              "      <td>0.05</td>\n",
              "      <td>0.1</td>\n",
              "      <td>1.15</td>\n",
              "      <td>0.1</td>\n",
              "      <td>3.0</td>\n",
              "      <td>1000.0</td>\n",
              "      <td>56.0</td>\n",
              "    </tr>\n",
              "    <tr>\n",
              "      <th>3</th>\n",
              "      <td>CONTACT</td>\n",
              "      <td>2.39</td>\n",
              "      <td>0.1</td>\n",
              "      <td>8.80</td>\n",
              "      <td>0.1</td>\n",
              "      <td>5.0</td>\n",
              "      <td>3437.0</td>\n",
              "      <td>544.0</td>\n",
              "    </tr>\n",
              "    <tr>\n",
              "      <th>4</th>\n",
              "      <td>CONTACT</td>\n",
              "      <td>1.44</td>\n",
              "      <td>0.1</td>\n",
              "      <td>6.70</td>\n",
              "      <td>0.1</td>\n",
              "      <td>3.5</td>\n",
              "      <td>3162.0</td>\n",
              "      <td>406.0</td>\n",
              "    </tr>\n",
              "    <tr>\n",
              "      <th>...</th>\n",
              "      <td>...</td>\n",
              "      <td>...</td>\n",
              "      <td>...</td>\n",
              "      <td>...</td>\n",
              "      <td>...</td>\n",
              "      <td>...</td>\n",
              "      <td>...</td>\n",
              "      <td>...</td>\n",
              "    </tr>\n",
              "    <tr>\n",
              "      <th>150</th>\n",
              "      <td>THERMO</td>\n",
              "      <td>0.55</td>\n",
              "      <td>0.1</td>\n",
              "      <td>3.67</td>\n",
              "      <td>0.1</td>\n",
              "      <td>4.0</td>\n",
              "      <td>7638.0</td>\n",
              "      <td>47.0</td>\n",
              "    </tr>\n",
              "    <tr>\n",
              "      <th>151</th>\n",
              "      <td>THERMO</td>\n",
              "      <td>0.20</td>\n",
              "      <td>0.1</td>\n",
              "      <td>3.04</td>\n",
              "      <td>0.1</td>\n",
              "      <td>4.0</td>\n",
              "      <td>5334.0</td>\n",
              "      <td>38.0</td>\n",
              "    </tr>\n",
              "    <tr>\n",
              "      <th>152</th>\n",
              "      <td>THERMO</td>\n",
              "      <td>0.16</td>\n",
              "      <td>0.1</td>\n",
              "      <td>2.18</td>\n",
              "      <td>0.1</td>\n",
              "      <td>4.0</td>\n",
              "      <td>3281.0</td>\n",
              "      <td>28.0</td>\n",
              "    </tr>\n",
              "    <tr>\n",
              "      <th>153</th>\n",
              "      <td>THERMO</td>\n",
              "      <td>0.90</td>\n",
              "      <td>0.1</td>\n",
              "      <td>5.20</td>\n",
              "      <td>0.1</td>\n",
              "      <td>4.0</td>\n",
              "      <td>7137.0</td>\n",
              "      <td>77.0</td>\n",
              "    </tr>\n",
              "    <tr>\n",
              "      <th>154</th>\n",
              "      <td>THERMO</td>\n",
              "      <td>0.96</td>\n",
              "      <td>0.1</td>\n",
              "      <td>9.88</td>\n",
              "      <td>0.1</td>\n",
              "      <td>4.0</td>\n",
              "      <td>8211.0</td>\n",
              "      <td>62.0</td>\n",
              "    </tr>\n",
              "  </tbody>\n",
              "</table>\n",
              "<p>155 rows × 8 columns</p>\n",
              "</div>"
            ],
            "text/plain": [
              "      techno  surface m²  % surface  ...  epaisseur   TOTAL  PIECE\n",
              "0    CONTACT        4.07        0.1  ...        4.0  7322.0  449.0\n",
              "1    CONTACT        2.37        0.1  ...        4.0  8897.0  315.0\n",
              "2    CONTACT        0.05        0.1  ...        3.0  1000.0   56.0\n",
              "3    CONTACT        2.39        0.1  ...        5.0  3437.0  544.0\n",
              "4    CONTACT        1.44        0.1  ...        3.5  3162.0  406.0\n",
              "..       ...         ...        ...  ...        ...     ...    ...\n",
              "150   THERMO        0.55        0.1  ...        4.0  7638.0   47.0\n",
              "151   THERMO        0.20        0.1  ...        4.0  5334.0   38.0\n",
              "152   THERMO        0.16        0.1  ...        4.0  3281.0   28.0\n",
              "153   THERMO        0.90        0.1  ...        4.0  7137.0   77.0\n",
              "154   THERMO        0.96        0.1  ...        4.0  8211.0   62.0\n",
              "\n",
              "[155 rows x 8 columns]"
            ]
          },
          "metadata": {},
          "execution_count": 3
        }
      ]
    },
    {
      "cell_type": "code",
      "metadata": {
        "colab": {
          "base_uri": "https://localhost:8080/"
        },
        "id": "iL0u7Cdf51wY",
        "outputId": "fa38796f-0d71-497b-bee5-25fb79aedd71"
      },
      "source": [
        "df.shape"
      ],
      "execution_count": 4,
      "outputs": [
        {
          "output_type": "execute_result",
          "data": {
            "text/plain": [
              "(155, 8)"
            ]
          },
          "metadata": {},
          "execution_count": 4
        }
      ]
    },
    {
      "cell_type": "code",
      "metadata": {
        "colab": {
          "base_uri": "https://localhost:8080/",
          "height": 327
        },
        "id": "xJVCVrZcTTd6",
        "outputId": "8c7e2372-ec01-440f-ee9d-094d2a8c92cd"
      },
      "source": [
        "#Visulaiser les valeur manquantes sur l'image\n",
        "sns.heatmap(df.isna(),cbar=False)"
      ],
      "execution_count": 5,
      "outputs": [
        {
          "output_type": "execute_result",
          "data": {
            "text/plain": [
              "<matplotlib.axes._subplots.AxesSubplot at 0x7f5182828110>"
            ]
          },
          "metadata": {},
          "execution_count": 5
        },
        {
          "output_type": "display_data",
          "data": {
            "image/png": "[encoded data removed]",
            "text/plain": [
              "<Figure size 432x288 with 1 Axes>"
            ]
          },
          "metadata": {
            "needs_background": "light"
          }
        }
      ]
    },
    {
      "cell_type": "code",
      "metadata": {
        "colab": {
          "base_uri": "https://localhost:8080/"
        },
        "id": "nqvrAYQv8fOx",
        "outputId": "7311df1b-742f-4275-8f9b-c0c6cad0884b"
      },
      "source": [
        "# les lignes dupliquées et la valeur manquante\n",
        "print(df.duplicated().sum())\n",
        "print(df.isnull().sum().sum())"
      ],
      "execution_count": 6,
      "outputs": [
        {
          "output_type": "stream",
          "name": "stdout",
          "text": [
            "4\n",
            "5\n"
          ]
        }
      ]
    },
    {
      "cell_type": "code",
      "metadata": {
        "colab": {
          "base_uri": "https://localhost:8080/"
        },
        "id": "oDt4RHI99nGz",
        "outputId": "83049e4e-04e7-42a1-9a12-6d9ace453e1e"
      },
      "source": [
        "#types de données de nos colonnes \n",
        "df.dtypes.sort_values()"
      ],
      "execution_count": 7,
      "outputs": [
        {
          "output_type": "execute_result",
          "data": {
            "text/plain": [
              "surface m²    float64\n",
              "% surface     float64\n",
              "longueur m    float64\n",
              "% longueur    float64\n",
              "epaisseur     float64\n",
              "TOTAL         float64\n",
              "PIECE         float64\n",
              "techno         object\n",
              "dtype: object"
            ]
          },
          "metadata": {},
          "execution_count": 7
        }
      ]
    },
    {
      "cell_type": "code",
      "metadata": {
        "colab": {
          "base_uri": "https://localhost:8080/",
          "height": 297
        },
        "id": "MfyMTXl1-P0v",
        "outputId": "f7a7184d-a949-497c-95ca-4468b6b8116f"
      },
      "source": [
        "df.describe()"
      ],
      "execution_count": 8,
      "outputs": [
        {
          "output_type": "execute_result",
          "data": {
            "text/html": [
              "<div>\n",
              "<style scoped>\n",
              "    .dataframe tbody tr th:only-of-type {\n",
              "        vertical-align: middle;\n",
              "    }\n",
              "\n",
              "    .dataframe tbody tr th {\n",
              "        vertical-align: top;\n",
              "    }\n",
              "\n",
              "    .dataframe thead th {\n",
              "        text-align: right;\n",
              "    }\n",
              "</style>\n",
              "<table border=\"1\" class=\"dataframe\">\n",
              "  <thead>\n",
              "    <tr style=\"text-align: right;\">\n",
              "      <th></th>\n",
              "      <th>surface m²</th>\n",
              "      <th>% surface</th>\n",
              "      <th>longueur m</th>\n",
              "      <th>% longueur</th>\n",
              "      <th>epaisseur</th>\n",
              "      <th>TOTAL</th>\n",
              "      <th>PIECE</th>\n",
              "    </tr>\n",
              "  </thead>\n",
              "  <tbody>\n",
              "    <tr>\n",
              "      <th>count</th>\n",
              "      <td>155.000000</td>\n",
              "      <td>1.550000e+02</td>\n",
              "      <td>155.000000</td>\n",
              "      <td>1.550000e+02</td>\n",
              "      <td>155.000000</td>\n",
              "      <td>150.000000</td>\n",
              "      <td>155.000000</td>\n",
              "    </tr>\n",
              "    <tr>\n",
              "      <th>mean</th>\n",
              "      <td>0.920658</td>\n",
              "      <td>1.000000e-01</td>\n",
              "      <td>6.035813</td>\n",
              "      <td>1.000000e-01</td>\n",
              "      <td>3.619355</td>\n",
              "      <td>8874.953333</td>\n",
              "      <td>148.392387</td>\n",
              "    </tr>\n",
              "    <tr>\n",
              "      <th>std</th>\n",
              "      <td>0.891291</td>\n",
              "      <td>2.645327e-16</td>\n",
              "      <td>4.749915</td>\n",
              "      <td>2.645327e-16</td>\n",
              "      <td>0.522494</td>\n",
              "      <td>12955.155576</td>\n",
              "      <td>281.425426</td>\n",
              "    </tr>\n",
              "    <tr>\n",
              "      <th>min</th>\n",
              "      <td>0.017000</td>\n",
              "      <td>1.000000e-01</td>\n",
              "      <td>0.760000</td>\n",
              "      <td>1.000000e-01</td>\n",
              "      <td>2.000000</td>\n",
              "      <td>660.000000</td>\n",
              "      <td>13.200000</td>\n",
              "    </tr>\n",
              "    <tr>\n",
              "      <th>25%</th>\n",
              "      <td>0.400000</td>\n",
              "      <td>1.000000e-01</td>\n",
              "      <td>3.200000</td>\n",
              "      <td>1.000000e-01</td>\n",
              "      <td>3.000000</td>\n",
              "      <td>3635.000000</td>\n",
              "      <td>37.680000</td>\n",
              "    </tr>\n",
              "    <tr>\n",
              "      <th>50%</th>\n",
              "      <td>0.650000</td>\n",
              "      <td>1.000000e-01</td>\n",
              "      <td>4.800000</td>\n",
              "      <td>1.000000e-01</td>\n",
              "      <td>4.000000</td>\n",
              "      <td>5776.500000</td>\n",
              "      <td>63.550000</td>\n",
              "    </tr>\n",
              "    <tr>\n",
              "      <th>75%</th>\n",
              "      <td>1.040000</td>\n",
              "      <td>1.000000e-01</td>\n",
              "      <td>7.350000</td>\n",
              "      <td>1.000000e-01</td>\n",
              "      <td>4.000000</td>\n",
              "      <td>9350.000000</td>\n",
              "      <td>168.500000</td>\n",
              "    </tr>\n",
              "    <tr>\n",
              "      <th>max</th>\n",
              "      <td>4.660000</td>\n",
              "      <td>1.000000e-01</td>\n",
              "      <td>37.520000</td>\n",
              "      <td>1.000000e-01</td>\n",
              "      <td>5.000000</td>\n",
              "      <td>119800.000000</td>\n",
              "      <td>2422.000000</td>\n",
              "    </tr>\n",
              "  </tbody>\n",
              "</table>\n",
              "</div>"
            ],
            "text/plain": [
              "       surface m²     % surface  ...          TOTAL        PIECE\n",
              "count  155.000000  1.550000e+02  ...     150.000000   155.000000\n",
              "mean     0.920658  1.000000e-01  ...    8874.953333   148.392387\n",
              "std      0.891291  2.645327e-16  ...   12955.155576   281.425426\n",
              "min      0.017000  1.000000e-01  ...     660.000000    13.200000\n",
              "25%      0.400000  1.000000e-01  ...    3635.000000    37.680000\n",
              "50%      0.650000  1.000000e-01  ...    5776.500000    63.550000\n",
              "75%      1.040000  1.000000e-01  ...    9350.000000   168.500000\n",
              "max      4.660000  1.000000e-01  ...  119800.000000  2422.000000\n",
              "\n",
              "[8 rows x 7 columns]"
            ]
          },
          "metadata": {},
          "execution_count": 8
        }
      ]
    },
    {
      "cell_type": "code",
      "metadata": {
        "colab": {
          "base_uri": "https://localhost:8080/"
        },
        "id": "GCsOtaIMDcdo",
        "outputId": "30a8c596-8977-4c2c-987b-a62186e0278a"
      },
      "source": [
        "# Renseigner les valeurs manquantes \n",
        "cat_data=[]\n",
        "num_data=[]\n",
        "for i,c in enumerate (df.dtypes):\n",
        "  if c==object:\n",
        "    cat_data.append(df.iloc[:,i])\n",
        "  else:\n",
        "    num_data.append(df.iloc[:,i])\n",
        "num_data"
      ],
      "execution_count": 9,
      "outputs": [
        {
          "output_type": "execute_result",
          "data": {
            "text/plain": [
              "[0      4.07\n",
              " 1      2.37\n",
              " 2      0.05\n",
              " 3      2.39\n",
              " 4      1.44\n",
              "        ... \n",
              " 150    0.55\n",
              " 151    0.20\n",
              " 152    0.16\n",
              " 153    0.90\n",
              " 154    0.96\n",
              " Name: surface m², Length: 155, dtype: float64, 0      0.1\n",
              " 1      0.1\n",
              " 2      0.1\n",
              " 3      0.1\n",
              " 4      0.1\n",
              "       ... \n",
              " 150    0.1\n",
              " 151    0.1\n",
              " 152    0.1\n",
              " 153    0.1\n",
              " 154    0.1\n",
              " Name: % surface, Length: 155, dtype: float64, 0      7.22\n",
              " 1      5.50\n",
              " 2      1.15\n",
              " 3      8.80\n",
              " 4      6.70\n",
              "        ... \n",
              " 150    3.67\n",
              " 151    3.04\n",
              " 152    2.18\n",
              " 153    5.20\n",
              " 154    9.88\n",
              " Name: longueur m, Length: 155, dtype: float64, 0      0.1\n",
              " 1      0.1\n",
              " 2      0.1\n",
              " 3      0.1\n",
              " 4      0.1\n",
              "       ... \n",
              " 150    0.1\n",
              " 151    0.1\n",
              " 152    0.1\n",
              " 153    0.1\n",
              " 154    0.1\n",
              " Name: % longueur, Length: 155, dtype: float64, 0      4.0\n",
              " 1      4.0\n",
              " 2      3.0\n",
              " 3      5.0\n",
              " 4      3.5\n",
              "       ... \n",
              " 150    4.0\n",
              " 151    4.0\n",
              " 152    4.0\n",
              " 153    4.0\n",
              " 154    4.0\n",
              " Name: epaisseur, Length: 155, dtype: float64, 0      7322.0\n",
              " 1      8897.0\n",
              " 2      1000.0\n",
              " 3      3437.0\n",
              " 4      3162.0\n",
              "         ...  \n",
              " 150    7638.0\n",
              " 151    5334.0\n",
              " 152    3281.0\n",
              " 153    7137.0\n",
              " 154    8211.0\n",
              " Name: TOTAL, Length: 155, dtype: float64, 0      449.0\n",
              " 1      315.0\n",
              " 2       56.0\n",
              " 3      544.0\n",
              " 4      406.0\n",
              "        ...  \n",
              " 150     47.0\n",
              " 151     38.0\n",
              " 152     28.0\n",
              " 153     77.0\n",
              " 154     62.0\n",
              " Name: PIECE, Length: 155, dtype: float64]"
            ]
          },
          "metadata": {},
          "execution_count": 9
        }
      ]
    },
    {
      "cell_type": "code",
      "metadata": {
        "colab": {
          "base_uri": "https://localhost:8080/"
        },
        "id": "dV4USjqHD-N-",
        "outputId": "3135c06e-cbac-42f6-e218-65ce337eff46"
      },
      "source": [
        "num_data\n",
        "#Visulaiser les valeur manquantes sur l'image\n",
        "#sns.heatmap(num_data.isna(),cbar=False)"
      ],
      "execution_count": 12,
      "outputs": [
        {
          "output_type": "execute_result",
          "data": {
            "text/plain": [
              "[0      4.07\n",
              " 1      2.37\n",
              " 2      0.05\n",
              " 3      2.39\n",
              " 4      1.44\n",
              "        ... \n",
              " 150    0.55\n",
              " 151    0.20\n",
              " 152    0.16\n",
              " 153    0.90\n",
              " 154    0.96\n",
              " Name: surface m², Length: 155, dtype: float64, 0      0.1\n",
              " 1      0.1\n",
              " 2      0.1\n",
              " 3      0.1\n",
              " 4      0.1\n",
              "       ... \n",
              " 150    0.1\n",
              " 151    0.1\n",
              " 152    0.1\n",
              " 153    0.1\n",
              " 154    0.1\n",
              " Name: % surface, Length: 155, dtype: float64, 0      7.22\n",
              " 1      5.50\n",
              " 2      1.15\n",
              " 3      8.80\n",
              " 4      6.70\n",
              "        ... \n",
              " 150    3.67\n",
              " 151    3.04\n",
              " 152    2.18\n",
              " 153    5.20\n",
              " 154    9.88\n",
              " Name: longueur m, Length: 155, dtype: float64, 0      0.1\n",
              " 1      0.1\n",
              " 2      0.1\n",
              " 3      0.1\n",
              " 4      0.1\n",
              "       ... \n",
              " 150    0.1\n",
              " 151    0.1\n",
              " 152    0.1\n",
              " 153    0.1\n",
              " 154    0.1\n",
              " Name: % longueur, Length: 155, dtype: float64, 0      4.0\n",
              " 1      4.0\n",
              " 2      3.0\n",
              " 3      5.0\n",
              " 4      3.5\n",
              "       ... \n",
              " 150    4.0\n",
              " 151    4.0\n",
              " 152    4.0\n",
              " 153    4.0\n",
              " 154    4.0\n",
              " Name: epaisseur, Length: 155, dtype: float64, 0      7322.0\n",
              " 1      8897.0\n",
              " 2      1000.0\n",
              " 3      3437.0\n",
              " 4      3162.0\n",
              "         ...  \n",
              " 150    7638.0\n",
              " 151    5334.0\n",
              " 152    3281.0\n",
              " 153    7137.0\n",
              " 154    8211.0\n",
              " Name: TOTAL, Length: 155, dtype: float64, 0      449.0\n",
              " 1      315.0\n",
              " 2       56.0\n",
              " 3      544.0\n",
              " 4      406.0\n",
              "        ...  \n",
              " 150     47.0\n",
              " 151     38.0\n",
              " 152     28.0\n",
              " 153     77.0\n",
              " 154     62.0\n",
              " Name: PIECE, Length: 155, dtype: float64]"
            ]
          },
          "metadata": {},
          "execution_count": 12
        }
      ]
    },
    {
      "cell_type": "code",
      "metadata": {
        "colab": {
          "base_uri": "https://localhost:8080/",
          "height": 419
        },
        "id": "XBxwEPXxEDGu",
        "outputId": "fb486dec-4d76-4072-bde0-c9334f67aaf6"
      },
      "source": [
        "cat_data=pd.DataFrame(cat_data).transpose()\n",
        "cat_data"
      ],
      "execution_count": 13,
      "outputs": [
        {
          "output_type": "execute_result",
          "data": {
            "text/html": [
              "<div>\n",
              "<style scoped>\n",
              "    .dataframe tbody tr th:only-of-type {\n",
              "        vertical-align: middle;\n",
              "    }\n",
              "\n",
              "    .dataframe tbody tr th {\n",
              "        vertical-align: top;\n",
              "    }\n",
              "\n",
              "    .dataframe thead th {\n",
              "        text-align: right;\n",
              "    }\n",
              "</style>\n",
              "<table border=\"1\" class=\"dataframe\">\n",
              "  <thead>\n",
              "    <tr style=\"text-align: right;\">\n",
              "      <th></th>\n",
              "      <th>techno</th>\n",
              "    </tr>\n",
              "  </thead>\n",
              "  <tbody>\n",
              "    <tr>\n",
              "      <th>0</th>\n",
              "      <td>CONTACT</td>\n",
              "    </tr>\n",
              "    <tr>\n",
              "      <th>1</th>\n",
              "      <td>CONTACT</td>\n",
              "    </tr>\n",
              "    <tr>\n",
              "      <th>2</th>\n",
              "      <td>CONTACT</td>\n",
              "    </tr>\n",
              "    <tr>\n",
              "      <th>3</th>\n",
              "      <td>CONTACT</td>\n",
              "    </tr>\n",
              "    <tr>\n",
              "      <th>4</th>\n",
              "      <td>CONTACT</td>\n",
              "    </tr>\n",
              "    <tr>\n",
              "      <th>...</th>\n",
              "      <td>...</td>\n",
              "    </tr>\n",
              "    <tr>\n",
              "      <th>150</th>\n",
              "      <td>THERMO</td>\n",
              "    </tr>\n",
              "    <tr>\n",
              "      <th>151</th>\n",
              "      <td>THERMO</td>\n",
              "    </tr>\n",
              "    <tr>\n",
              "      <th>152</th>\n",
              "      <td>THERMO</td>\n",
              "    </tr>\n",
              "    <tr>\n",
              "      <th>153</th>\n",
              "      <td>THERMO</td>\n",
              "    </tr>\n",
              "    <tr>\n",
              "      <th>154</th>\n",
              "      <td>THERMO</td>\n",
              "    </tr>\n",
              "  </tbody>\n",
              "</table>\n",
              "<p>155 rows × 1 columns</p>\n",
              "</div>"
            ],
            "text/plain": [
              "      techno\n",
              "0    CONTACT\n",
              "1    CONTACT\n",
              "2    CONTACT\n",
              "3    CONTACT\n",
              "4    CONTACT\n",
              "..       ...\n",
              "150   THERMO\n",
              "151   THERMO\n",
              "152   THERMO\n",
              "153   THERMO\n",
              "154   THERMO\n",
              "\n",
              "[155 rows x 1 columns]"
            ]
          },
          "metadata": {},
          "execution_count": 13
        }
      ]
    },
    {
      "cell_type": "code",
      "metadata": {
        "colab": {
          "base_uri": "https://localhost:8080/",
          "height": 419
        },
        "id": "wNGsvW8PEHgE",
        "outputId": "1166cc9e-7384-4965-b8b0-1a63570ea77f"
      },
      "source": [
        "num_data=pd.DataFrame(num_data).transpose()\n",
        "num_data"
      ],
      "execution_count": 14,
      "outputs": [
        {
          "output_type": "execute_result",
          "data": {
            "text/html": [
              "<div>\n",
              "<style scoped>\n",
              "    .dataframe tbody tr th:only-of-type {\n",
              "        vertical-align: middle;\n",
              "    }\n",
              "\n",
              "    .dataframe tbody tr th {\n",
              "        vertical-align: top;\n",
              "    }\n",
              "\n",
              "    .dataframe thead th {\n",
              "        text-align: right;\n",
              "    }\n",
              "</style>\n",
              "<table border=\"1\" class=\"dataframe\">\n",
              "  <thead>\n",
              "    <tr style=\"text-align: right;\">\n",
              "      <th></th>\n",
              "      <th>surface m²</th>\n",
              "      <th>% surface</th>\n",
              "      <th>longueur m</th>\n",
              "      <th>% longueur</th>\n",
              "      <th>epaisseur</th>\n",
              "      <th>TOTAL</th>\n",
              "      <th>PIECE</th>\n",
              "    </tr>\n",
              "  </thead>\n",
              "  <tbody>\n",
              "    <tr>\n",
              "      <th>0</th>\n",
              "      <td>4.07</td>\n",
              "      <td>0.1</td>\n",
              "      <td>7.22</td>\n",
              "      <td>0.1</td>\n",
              "      <td>4.0</td>\n",
              "      <td>7322.0</td>\n",
              "      <td>449.0</td>\n",
              "    </tr>\n",
              "    <tr>\n",
              "      <th>1</th>\n",
              "      <td>2.37</td>\n",
              "      <td>0.1</td>\n",
              "      <td>5.50</td>\n",
              "      <td>0.1</td>\n",
              "      <td>4.0</td>\n",
              "      <td>8897.0</td>\n",
              "      <td>315.0</td>\n",
              "    </tr>\n",
              "    <tr>\n",
              "      <th>2</th>\n",
              "      <td>0.05</td>\n",
              "      <td>0.1</td>\n",
              "      <td>1.15</td>\n",
              "      <td>0.1</td>\n",
              "      <td>3.0</td>\n",
              "      <td>1000.0</td>\n",
              "      <td>56.0</td>\n",
              "    </tr>\n",
              "    <tr>\n",
              "      <th>3</th>\n",
              "      <td>2.39</td>\n",
              "      <td>0.1</td>\n",
              "      <td>8.80</td>\n",
              "      <td>0.1</td>\n",
              "      <td>5.0</td>\n",
              "      <td>3437.0</td>\n",
              "      <td>544.0</td>\n",
              "    </tr>\n",
              "    <tr>\n",
              "      <th>4</th>\n",
              "      <td>1.44</td>\n",
              "      <td>0.1</td>\n",
              "      <td>6.70</td>\n",
              "      <td>0.1</td>\n",
              "      <td>3.5</td>\n",
              "      <td>3162.0</td>\n",
              "      <td>406.0</td>\n",
              "    </tr>\n",
              "    <tr>\n",
              "      <th>...</th>\n",
              "      <td>...</td>\n",
              "      <td>...</td>\n",
              "      <td>...</td>\n",
              "      <td>...</td>\n",
              "      <td>...</td>\n",
              "      <td>...</td>\n",
              "      <td>...</td>\n",
              "    </tr>\n",
              "    <tr>\n",
              "      <th>150</th>\n",
              "      <td>0.55</td>\n",
              "      <td>0.1</td>\n",
              "      <td>3.67</td>\n",
              "      <td>0.1</td>\n",
              "      <td>4.0</td>\n",
              "      <td>7638.0</td>\n",
              "      <td>47.0</td>\n",
              "    </tr>\n",
              "    <tr>\n",
              "      <th>151</th>\n",
              "      <td>0.20</td>\n",
              "      <td>0.1</td>\n",
              "      <td>3.04</td>\n",
              "      <td>0.1</td>\n",
              "      <td>4.0</td>\n",
              "      <td>5334.0</td>\n",
              "      <td>38.0</td>\n",
              "    </tr>\n",
              "    <tr>\n",
              "      <th>152</th>\n",
              "      <td>0.16</td>\n",
              "      <td>0.1</td>\n",
              "      <td>2.18</td>\n",
              "      <td>0.1</td>\n",
              "      <td>4.0</td>\n",
              "      <td>3281.0</td>\n",
              "      <td>28.0</td>\n",
              "    </tr>\n",
              "    <tr>\n",
              "      <th>153</th>\n",
              "      <td>0.90</td>\n",
              "      <td>0.1</td>\n",
              "      <td>5.20</td>\n",
              "      <td>0.1</td>\n",
              "      <td>4.0</td>\n",
              "      <td>7137.0</td>\n",
              "      <td>77.0</td>\n",
              "    </tr>\n",
              "    <tr>\n",
              "      <th>154</th>\n",
              "      <td>0.96</td>\n",
              "      <td>0.1</td>\n",
              "      <td>9.88</td>\n",
              "      <td>0.1</td>\n",
              "      <td>4.0</td>\n",
              "      <td>8211.0</td>\n",
              "      <td>62.0</td>\n",
              "    </tr>\n",
              "  </tbody>\n",
              "</table>\n",
              "<p>155 rows × 7 columns</p>\n",
              "</div>"
            ],
            "text/plain": [
              "     surface m²  % surface  longueur m  % longueur  epaisseur   TOTAL  PIECE\n",
              "0          4.07        0.1        7.22         0.1        4.0  7322.0  449.0\n",
              "1          2.37        0.1        5.50         0.1        4.0  8897.0  315.0\n",
              "2          0.05        0.1        1.15         0.1        3.0  1000.0   56.0\n",
              "3          2.39        0.1        8.80         0.1        5.0  3437.0  544.0\n",
              "4          1.44        0.1        6.70         0.1        3.5  3162.0  406.0\n",
              "..          ...        ...         ...         ...        ...     ...    ...\n",
              "150        0.55        0.1        3.67         0.1        4.0  7638.0   47.0\n",
              "151        0.20        0.1        3.04         0.1        4.0  5334.0   38.0\n",
              "152        0.16        0.1        2.18         0.1        4.0  3281.0   28.0\n",
              "153        0.90        0.1        5.20         0.1        4.0  7137.0   77.0\n",
              "154        0.96        0.1        9.88         0.1        4.0  8211.0   62.0\n",
              "\n",
              "[155 rows x 7 columns]"
            ]
          },
          "metadata": {},
          "execution_count": 14
        }
      ]
    },
    {
      "cell_type": "code",
      "metadata": {
        "colab": {
          "base_uri": "https://localhost:8080/",
          "height": 287
        },
        "id": "qPCys6RNEQpr",
        "outputId": "87125f46-8b4c-43c2-af4f-e5404bd3f96e"
      },
      "source": [
        "cat_data.isnull().sum().any()\n",
        "sns.heatmap(cat_data.isna(),cbar=False)"
      ],
      "execution_count": 15,
      "outputs": [
        {
          "output_type": "execute_result",
          "data": {
            "text/plain": [
              "<matplotlib.axes._subplots.AxesSubplot at 0x7f515e2d9cd0>"
            ]
          },
          "metadata": {},
          "execution_count": 15
        },
        {
          "output_type": "display_data",
          "data": {
            "image/png": "[encoded data removed]",
            "text/plain": [
              "<Figure size 432x288 with 1 Axes>"
            ]
          },
          "metadata": {
            "needs_background": "light"
          }
        }
      ]
    },
    {
      "cell_type": "code",
      "metadata": {
        "colab": {
          "base_uri": "https://localhost:8080/",
          "height": 327
        },
        "id": "3Ewau9Z8EiFT",
        "outputId": "2e17e20c-3339-4fe7-f917-47a2be31b523"
      },
      "source": [
        "num_data.isnull().sum().any()\n",
        "sns.heatmap(num_data.isna(),cbar=False)"
      ],
      "execution_count": 16,
      "outputs": [
        {
          "output_type": "execute_result",
          "data": {
            "text/plain": [
              "<matplotlib.axes._subplots.AxesSubplot at 0x7f51668e4a50>"
            ]
          },
          "metadata": {},
          "execution_count": 16
        },
        {
          "output_type": "display_data",
          "data": {
            "image/png": "[encoded data removed]",
            "text/plain": [
              "<Figure size 432x288 with 1 Axes>"
            ]
          },
          "metadata": {
            "needs_background": "light"
          }
        }
      ]
    },
    {
      "cell_type": "code",
      "metadata": {
        "colab": {
          "base_uri": "https://localhost:8080/"
        },
        "id": "2Hx-VyWvFUKX",
        "outputId": "dcf10972-84c4-4790-af07-327d212e7ea3"
      },
      "source": [
        "num_data['TOTAL'].value_counts()"
      ],
      "execution_count": 17,
      "outputs": [
        {
          "output_type": "execute_result",
          "data": {
            "text/plain": [
              "4350.0     4\n",
              "4200.0     4\n",
              "3750.0     4\n",
              "9350.0     4\n",
              "3500.0     4\n",
              "          ..\n",
              "16400.0    1\n",
              "5880.0     1\n",
              "6300.0     1\n",
              "3437.0     1\n",
              "7322.0     1\n",
              "Name: TOTAL, Length: 105, dtype: int64"
            ]
          },
          "metadata": {},
          "execution_count": 17
        }
      ]
    },
    {
      "cell_type": "code",
      "metadata": {
        "colab": {
          "base_uri": "https://localhost:8080/"
        },
        "id": "iDSUaLAIFs6v",
        "outputId": "f3050359-995d-4b3d-c655-aa5a77c770b4"
      },
      "source": [
        "num_data.isnull().sum().any()"
      ],
      "execution_count": 18,
      "outputs": [
        {
          "output_type": "execute_result",
          "data": {
            "text/plain": [
              "True"
            ]
          },
          "metadata": {},
          "execution_count": 18
        }
      ]
    },
    {
      "cell_type": "code",
      "metadata": {
        "colab": {
          "base_uri": "https://localhost:8080/"
        },
        "id": "ais6bkaYFvmz",
        "outputId": "8d4a1e65-1c5f-4f26-9ac4-f45f39822fc3"
      },
      "source": [
        "num_data['TOTAL'].value_counts()"
      ],
      "execution_count": 19,
      "outputs": [
        {
          "output_type": "execute_result",
          "data": {
            "text/plain": [
              "4350.0     4\n",
              "4200.0     4\n",
              "3750.0     4\n",
              "9350.0     4\n",
              "3500.0     4\n",
              "          ..\n",
              "16400.0    1\n",
              "5880.0     1\n",
              "6300.0     1\n",
              "3437.0     1\n",
              "7322.0     1\n",
              "Name: TOTAL, Length: 105, dtype: int64"
            ]
          },
          "metadata": {},
          "execution_count": 19
        }
      ]
    },
    {
      "cell_type": "code",
      "metadata": {
        "id": "PP5gT-_bF2aw",
        "colab": {
          "base_uri": "https://localhost:8080/"
        },
        "outputId": "47f4afc3-aa32-46da-d5f2-c45a79094e0a"
      },
      "source": [
        "cat_data.isnull().sum().any()"
      ],
      "execution_count": 20,
      "outputs": [
        {
          "output_type": "execute_result",
          "data": {
            "text/plain": [
              "False"
            ]
          },
          "metadata": {},
          "execution_count": 20
        }
      ]
    },
    {
      "cell_type": "code",
      "metadata": {
        "colab": {
          "base_uri": "https://localhost:8080/"
        },
        "id": "uy_9NE9sJamG",
        "outputId": "0847ac72-3b24-4e4a-f5f2-73548bbd1fff"
      },
      "source": [
        "df['TOTAL'].value_counts()"
      ],
      "execution_count": 21,
      "outputs": [
        {
          "output_type": "execute_result",
          "data": {
            "text/plain": [
              "4350.0     4\n",
              "4200.0     4\n",
              "3750.0     4\n",
              "9350.0     4\n",
              "3500.0     4\n",
              "          ..\n",
              "16400.0    1\n",
              "5880.0     1\n",
              "6300.0     1\n",
              "3437.0     1\n",
              "7322.0     1\n",
              "Name: TOTAL, Length: 105, dtype: int64"
            ]
          },
          "metadata": {},
          "execution_count": 21
        }
      ]
    },
    {
      "cell_type": "code",
      "metadata": {
        "colab": {
          "base_uri": "https://localhost:8080/"
        },
        "id": "zbU757vsKIvn",
        "outputId": "42c3ae48-4ddb-4da1-faef-796185505b65"
      },
      "source": [
        "df['TOTAL'].value_counts()"
      ],
      "execution_count": 22,
      "outputs": [
        {
          "output_type": "execute_result",
          "data": {
            "text/plain": [
              "4350.0     4\n",
              "4200.0     4\n",
              "3750.0     4\n",
              "9350.0     4\n",
              "3500.0     4\n",
              "          ..\n",
              "16400.0    1\n",
              "5880.0     1\n",
              "6300.0     1\n",
              "3437.0     1\n",
              "7322.0     1\n",
              "Name: TOTAL, Length: 105, dtype: int64"
            ]
          },
          "metadata": {},
          "execution_count": 22
        }
      ]
    },
    {
      "cell_type": "code",
      "metadata": {
        "colab": {
          "base_uri": "https://localhost:8080/"
        },
        "id": "fjEGBImxLBGO",
        "outputId": "a6764a9f-6d40-4c5d-a094-d531bd6bb793"
      },
      "source": [
        "#Pour les variables numérique on va remplacer la valeur manquante par la valeur précedente de la valeur manqute\n",
        "\n",
        "num_data\n",
        "num_data.fillna(method='bfill',inplace=True)\n",
        "num_data.isnull().sum().any() "
      ],
      "execution_count": 23,
      "outputs": [
        {
          "output_type": "execute_result",
          "data": {
            "text/plain": [
              "False"
            ]
          },
          "metadata": {},
          "execution_count": 23
        }
      ]
    },
    {
      "cell_type": "code",
      "metadata": {
        "id": "aTbiRg78PQhU"
      },
      "source": [
        "#Les variables num \n",
        "var_num=['surface m²','% surface','longueur m','% longueur','epaisseur','TOTAL','PIECE']"
      ],
      "execution_count": 24,
      "outputs": []
    },
    {
      "cell_type": "code",
      "metadata": {
        "colab": {
          "base_uri": "https://localhost:8080/"
        },
        "id": "Ayz8QLxtHQIg",
        "outputId": "5ecf9230-8b98-4440-8e60-8abfb07e535c"
      },
      "source": [
        "#Analyse univariée \n",
        "df['PIECE'].value_counts()"
      ],
      "execution_count": 25,
      "outputs": [
        {
          "output_type": "execute_result",
          "data": {
            "text/plain": [
              "47.00     3\n",
              "24.36     3\n",
              "27.36     3\n",
              "60.00     3\n",
              "28.80     3\n",
              "         ..\n",
              "32.00     1\n",
              "38.00     1\n",
              "28.00     1\n",
              "513.60    1\n",
              "449.00    1\n",
              "Name: PIECE, Length: 121, dtype: int64"
            ]
          },
          "metadata": {},
          "execution_count": 25
        }
      ]
    },
    {
      "cell_type": "code",
      "metadata": {
        "id": "S51BPMKTH4DQ"
      },
      "source": [
        ""
      ],
      "execution_count": 25,
      "outputs": []
    },
    {
      "cell_type": "code",
      "metadata": {
        "colab": {
          "base_uri": "https://localhost:8080/"
        },
        "id": "l1JgJBZ0HvsR",
        "outputId": "0910cdab-6c9f-4c5e-a6b4-ad8533288a67"
      },
      "source": [
        "df['PIECE'].value_counts(normalize=True)*100"
      ],
      "execution_count": 26,
      "outputs": [
        {
          "output_type": "execute_result",
          "data": {
            "text/plain": [
              "47.00     1.935484\n",
              "24.36     1.935484\n",
              "27.36     1.935484\n",
              "60.00     1.935484\n",
              "28.80     1.935484\n",
              "            ...   \n",
              "32.00     0.645161\n",
              "38.00     0.645161\n",
              "28.00     0.645161\n",
              "513.60    0.645161\n",
              "449.00    0.645161\n",
              "Name: PIECE, Length: 121, dtype: float64"
            ]
          },
          "metadata": {},
          "execution_count": 26
        }
      ]
    },
    {
      "cell_type": "code",
      "metadata": {
        "colab": {
          "base_uri": "https://localhost:8080/",
          "height": 318
        },
        "id": "XhdUfvdWIQRD",
        "outputId": "7058c18e-5492-40bf-e9c2-9dab103a49e0"
      },
      "source": [
        "df['PIECE'].value_counts(normalize=True).plot.bar(title='La variation des prix de la pièce')"
      ],
      "execution_count": 27,
      "outputs": [
        {
          "output_type": "execute_result",
          "data": {
            "text/plain": [
              "<matplotlib.axes._subplots.AxesSubplot at 0x7f515cefd610>"
            ]
          },
          "metadata": {},
          "execution_count": 27
        },
        {
          "output_type": "display_data",
          "data": {
            "image/png": "[encoded data removed]",
            "text/plain": [
              "<Figure size 432x288 with 1 Axes>"
            ]
          },
          "metadata": {
            "needs_background": "light"
          }
        }
      ]
    },
    {
      "cell_type": "code",
      "metadata": {
        "colab": {
          "base_uri": "https://localhost:8080/"
        },
        "id": "Iz2rjtYUIoiH",
        "outputId": "fafd11e2-a449-4c21-a4b1-6718ba781c6f"
      },
      "source": [
        "df['techno'].value_counts()"
      ],
      "execution_count": 28,
      "outputs": [
        {
          "output_type": "execute_result",
          "data": {
            "text/plain": [
              "THERMO         111\n",
              "RTM GELCOAT     26\n",
              "CONTACT         18\n",
              "Name: techno, dtype: int64"
            ]
          },
          "metadata": {},
          "execution_count": 28
        }
      ]
    },
    {
      "cell_type": "code",
      "metadata": {
        "id": "5WLJ-8UFJwAq"
      },
      "source": [
        ""
      ],
      "execution_count": 28,
      "outputs": []
    },
    {
      "cell_type": "code",
      "metadata": {
        "colab": {
          "base_uri": "https://localhost:8080/"
        },
        "id": "qsCN8AIFJ1sa",
        "outputId": "2bffd619-f51c-481e-e811-1c7b9b39abbf"
      },
      "source": [
        "df['techno'].value_counts(normalize=True)*100"
      ],
      "execution_count": 29,
      "outputs": [
        {
          "output_type": "execute_result",
          "data": {
            "text/plain": [
              "THERMO         71.612903\n",
              "RTM GELCOAT    16.774194\n",
              "CONTACT        11.612903\n",
              "Name: techno, dtype: float64"
            ]
          },
          "metadata": {},
          "execution_count": 29
        }
      ]
    },
    {
      "cell_type": "code",
      "metadata": {
        "colab": {
          "base_uri": "https://localhost:8080/",
          "height": 359
        },
        "id": "2mPK0mIfJgrC",
        "outputId": "d125bc4f-786e-4953-8a82-31a57b028b1e"
      },
      "source": [
        "df['techno'].value_counts().plot.bar(title='Visualiser la colone techno')"
      ],
      "execution_count": 30,
      "outputs": [
        {
          "output_type": "execute_result",
          "data": {
            "text/plain": [
              "<matplotlib.axes._subplots.AxesSubplot at 0x7f515cbf54d0>"
            ]
          },
          "metadata": {},
          "execution_count": 30
        },
        {
          "output_type": "display_data",
          "data": {
            "image/png": "[encoded data removed]",
            "text/plain": [
              "<Figure size 432x288 with 1 Axes>"
            ]
          },
          "metadata": {
            "needs_background": "light"
          }
        }
      ]
    },
    {
      "cell_type": "code",
      "metadata": {
        "colab": {
          "base_uri": "https://localhost:8080/",
          "height": 297
        },
        "id": "b3XWh-9CKAzl",
        "outputId": "cf8fc9c6-7d99-49c6-8961-cea45938a7e6"
      },
      "source": [
        "#Variable numériques\n",
        "df[var_num].describe()"
      ],
      "execution_count": 31,
      "outputs": [
        {
          "output_type": "execute_result",
          "data": {
            "text/html": [
              "<div>\n",
              "<style scoped>\n",
              "    .dataframe tbody tr th:only-of-type {\n",
              "        vertical-align: middle;\n",
              "    }\n",
              "\n",
              "    .dataframe tbody tr th {\n",
              "        vertical-align: top;\n",
              "    }\n",
              "\n",
              "    .dataframe thead th {\n",
              "        text-align: right;\n",
              "    }\n",
              "</style>\n",
              "<table border=\"1\" class=\"dataframe\">\n",
              "  <thead>\n",
              "    <tr style=\"text-align: right;\">\n",
              "      <th></th>\n",
              "      <th>surface m²</th>\n",
              "      <th>% surface</th>\n",
              "      <th>longueur m</th>\n",
              "      <th>% longueur</th>\n",
              "      <th>epaisseur</th>\n",
              "      <th>TOTAL</th>\n",
              "      <th>PIECE</th>\n",
              "    </tr>\n",
              "  </thead>\n",
              "  <tbody>\n",
              "    <tr>\n",
              "      <th>count</th>\n",
              "      <td>155.000000</td>\n",
              "      <td>1.550000e+02</td>\n",
              "      <td>155.000000</td>\n",
              "      <td>1.550000e+02</td>\n",
              "      <td>155.000000</td>\n",
              "      <td>150.000000</td>\n",
              "      <td>155.000000</td>\n",
              "    </tr>\n",
              "    <tr>\n",
              "      <th>mean</th>\n",
              "      <td>0.920658</td>\n",
              "      <td>1.000000e-01</td>\n",
              "      <td>6.035813</td>\n",
              "      <td>1.000000e-01</td>\n",
              "      <td>3.619355</td>\n",
              "      <td>8874.953333</td>\n",
              "      <td>148.392387</td>\n",
              "    </tr>\n",
              "    <tr>\n",
              "      <th>std</th>\n",
              "      <td>0.891291</td>\n",
              "      <td>2.645327e-16</td>\n",
              "      <td>4.749915</td>\n",
              "      <td>2.645327e-16</td>\n",
              "      <td>0.522494</td>\n",
              "      <td>12955.155576</td>\n",
              "      <td>281.425426</td>\n",
              "    </tr>\n",
              "    <tr>\n",
              "      <th>min</th>\n",
              "      <td>0.017000</td>\n",
              "      <td>1.000000e-01</td>\n",
              "      <td>0.760000</td>\n",
              "      <td>1.000000e-01</td>\n",
              "      <td>2.000000</td>\n",
              "      <td>660.000000</td>\n",
              "      <td>13.200000</td>\n",
              "    </tr>\n",
              "    <tr>\n",
              "      <th>25%</th>\n",
              "      <td>0.400000</td>\n",
              "      <td>1.000000e-01</td>\n",
              "      <td>3.200000</td>\n",
              "      <td>1.000000e-01</td>\n",
              "      <td>3.000000</td>\n",
              "      <td>3635.000000</td>\n",
              "      <td>37.680000</td>\n",
              "    </tr>\n",
              "    <tr>\n",
              "      <th>50%</th>\n",
              "      <td>0.650000</td>\n",
              "      <td>1.000000e-01</td>\n",
              "      <td>4.800000</td>\n",
              "      <td>1.000000e-01</td>\n",
              "      <td>4.000000</td>\n",
              "      <td>5776.500000</td>\n",
              "      <td>63.550000</td>\n",
              "    </tr>\n",
              "    <tr>\n",
              "      <th>75%</th>\n",
              "      <td>1.040000</td>\n",
              "      <td>1.000000e-01</td>\n",
              "      <td>7.350000</td>\n",
              "      <td>1.000000e-01</td>\n",
              "      <td>4.000000</td>\n",
              "      <td>9350.000000</td>\n",
              "      <td>168.500000</td>\n",
              "    </tr>\n",
              "    <tr>\n",
              "      <th>max</th>\n",
              "      <td>4.660000</td>\n",
              "      <td>1.000000e-01</td>\n",
              "      <td>37.520000</td>\n",
              "      <td>1.000000e-01</td>\n",
              "      <td>5.000000</td>\n",
              "      <td>119800.000000</td>\n",
              "      <td>2422.000000</td>\n",
              "    </tr>\n",
              "  </tbody>\n",
              "</table>\n",
              "</div>"
            ],
            "text/plain": [
              "       surface m²     % surface  ...          TOTAL        PIECE\n",
              "count  155.000000  1.550000e+02  ...     150.000000   155.000000\n",
              "mean     0.920658  1.000000e-01  ...    8874.953333   148.392387\n",
              "std      0.891291  2.645327e-16  ...   12955.155576   281.425426\n",
              "min      0.017000  1.000000e-01  ...     660.000000    13.200000\n",
              "25%      0.400000  1.000000e-01  ...    3635.000000    37.680000\n",
              "50%      0.650000  1.000000e-01  ...    5776.500000    63.550000\n",
              "75%      1.040000  1.000000e-01  ...    9350.000000   168.500000\n",
              "max      4.660000  1.000000e-01  ...  119800.000000  2422.000000\n",
              "\n",
              "[8 rows x 7 columns]"
            ]
          },
          "metadata": {},
          "execution_count": 31
        }
      ]
    },
    {
      "cell_type": "code",
      "metadata": {
        "colab": {
          "base_uri": "https://localhost:8080/",
          "height": 334
        },
        "id": "bTk3ED0RK5oW",
        "outputId": "ce81a2db-721d-47de-95b5-42161597637f"
      },
      "source": [
        "# La longuer en m² \n",
        "plt.figure(1)\n",
        "plt.subplot(121)\n",
        "sns.distplot(df['longueur m'])\n",
        "plt.subplot(122)\n",
        "\n",
        "df['longueur m'].plot.box(figsize=(16,5))\n",
        "plt.suptitle('')\n",
        "plt.show()\n"
      ],
      "execution_count": 32,
      "outputs": [
        {
          "output_type": "display_data",
          "data": {
            "image/png": "[encoded data removed]",
            "text/plain": [
              "<Figure size 1152x360 with 2 Axes>"
            ]
          },
          "metadata": {
            "needs_background": "light"
          }
        }
      ]
    },
    {
      "cell_type": "code",
      "metadata": {
        "colab": {
          "base_uri": "https://localhost:8080/",
          "height": 334
        },
        "id": "g6cyREUMM4Dt",
        "outputId": "282d5743-5091-4a93-a932-4564d370f096"
      },
      "source": [
        "# Epaisseur\n",
        "plt.figure(1)\n",
        "plt.subplot(121)\n",
        "sns.distplot(df['epaisseur'])\n",
        "plt.subplot(122)\n",
        "\n",
        "df['epaisseur'].plot.box(figsize=(16,5))\n",
        "plt.suptitle('')\n",
        "plt.show()\n"
      ],
      "execution_count": 33,
      "outputs": [
        {
          "output_type": "display_data",
          "data": {
            "image/png": "[encoded data removed]",
            "text/plain": [
              "<Figure size 1152x360 with 2 Axes>"
            ]
          },
          "metadata": {
            "needs_background": "light"
          }
        }
      ]
    },
    {
      "cell_type": "code",
      "metadata": {
        "colab": {
          "base_uri": "https://localhost:8080/",
          "height": 334
        },
        "id": "8wBBcCsxJsiQ",
        "outputId": "e88a5e82-4814-4df2-9c5c-570aaf4a8dc6"
      },
      "source": [
        "# Le TOTAL\n",
        "plt.figure(1)\n",
        "plt.subplot(121)\n",
        "sns.distplot(df['TOTAL'])\n",
        "plt.subplot(122)\n",
        "\n",
        "df['TOTAL'].plot.box(figsize=(16,5))\n",
        "plt.suptitle('')\n",
        "plt.show()\n"
      ],
      "execution_count": 34,
      "outputs": [
        {
          "output_type": "display_data",
          "data": {
            "image/png": "[encoded data removed]",
            "text/plain": [
              "<Figure size 1152x360 with 2 Axes>"
            ]
          },
          "metadata": {
            "needs_background": "light"
          }
        }
      ]
    },
    {
      "cell_type": "code",
      "metadata": {
        "colab": {
          "base_uri": "https://localhost:8080/",
          "height": 673
        },
        "id": "dace95CpN3i7",
        "outputId": "5e4c57d6-0278-4bf9-c55a-c36cb7148ab3"
      },
      "source": [
        "# Nuages ​​de points pour rechercher des relations et des histogrammes linéaires et non linéaires\n",
        "sns.pairplot(df, diag_kind='hist',  hue= 'PIECE', height=1.5, \n",
        "             diag_kws={\"edgecolor\":\"G\", \"alpha\":0.5},\n",
        "             plot_kws={\"alpha\":0.5})"
      ],
      "execution_count": 35,
      "outputs": [
        {
          "output_type": "execute_result",
          "data": {
            "text/plain": [
              "<seaborn.axisgrid.PairGrid at 0x7f515a864750>"
            ]
          },
          "metadata": {},
          "execution_count": 35
        },
        {
          "output_type": "display_data",
          "data": {
            "image/png": "[encoded data removed]",
            "text/plain": [
              "<Figure size 706.5x648 with 42 Axes>"
            ]
          },
          "metadata": {
            "needs_background": "light"
          }
        }
      ]
    },
    {
      "cell_type": "code",
      "metadata": {
        "colab": {
          "base_uri": "https://localhost:8080/",
          "height": 327
        },
        "id": "JLm9Y-xJVZIV",
        "outputId": "4f5d8753-0e05-42b0-fc62-8f720cb1aaea"
      },
      "source": [
        "#matrice de corrélation\n",
        "sns.heatmap(df.corr(method='pearson'), cmap=\"Greys\", annot=True)"
      ],
      "execution_count": 36,
      "outputs": [
        {
          "output_type": "execute_result",
          "data": {
            "text/plain": [
              "<matplotlib.axes._subplots.AxesSubplot at 0x7f51562cfbd0>"
            ]
          },
          "metadata": {},
          "execution_count": 36
        },
        {
          "output_type": "display_data",
          "data": {
            "image/png": "[encoded data removed]",
            "text/plain": [
              "<Figure size 432x288 with 2 Axes>"
            ]
          },
          "metadata": {
            "needs_background": "light"
          }
        }
      ]
    },
    {
      "cell_type": "code",
      "metadata": {
        "colab": {
          "base_uri": "https://localhost:8080/",
          "height": 419
        },
        "id": "MN9CWE_tWNlf",
        "outputId": "0284343a-d86b-4ee3-e6df-14cbcc5f07cc"
      },
      "source": [
        "df"
      ],
      "execution_count": 37,
      "outputs": [
        {
          "output_type": "execute_result",
          "data": {
            "text/html": [
              "<div>\n",
              "<style scoped>\n",
              "    .dataframe tbody tr th:only-of-type {\n",
              "        vertical-align: middle;\n",
              "    }\n",
              "\n",
              "    .dataframe tbody tr th {\n",
              "        vertical-align: top;\n",
              "    }\n",
              "\n",
              "    .dataframe thead th {\n",
              "        text-align: right;\n",
              "    }\n",
              "</style>\n",
              "<table border=\"1\" class=\"dataframe\">\n",
              "  <thead>\n",
              "    <tr style=\"text-align: right;\">\n",
              "      <th></th>\n",
              "      <th>techno</th>\n",
              "      <th>surface m²</th>\n",
              "      <th>% surface</th>\n",
              "      <th>longueur m</th>\n",
              "      <th>% longueur</th>\n",
              "      <th>epaisseur</th>\n",
              "      <th>TOTAL</th>\n",
              "      <th>PIECE</th>\n",
              "    </tr>\n",
              "  </thead>\n",
              "  <tbody>\n",
              "    <tr>\n",
              "      <th>0</th>\n",
              "      <td>CONTACT</td>\n",
              "      <td>4.07</td>\n",
              "      <td>0.1</td>\n",
              "      <td>7.22</td>\n",
              "      <td>0.1</td>\n",
              "      <td>4.0</td>\n",
              "      <td>7322.0</td>\n",
              "      <td>449.0</td>\n",
              "    </tr>\n",
              "    <tr>\n",
              "      <th>1</th>\n",
              "      <td>CONTACT</td>\n",
              "      <td>2.37</td>\n",
              "      <td>0.1</td>\n",
              "      <td>5.50</td>\n",
              "      <td>0.1</td>\n",
              "      <td>4.0</td>\n",
              "      <td>8897.0</td>\n",
              "      <td>315.0</td>\n",
              "    </tr>\n",
              "    <tr>\n",
              "      <th>2</th>\n",
              "      <td>CONTACT</td>\n",
              "      <td>0.05</td>\n",
              "      <td>0.1</td>\n",
              "      <td>1.15</td>\n",
              "      <td>0.1</td>\n",
              "      <td>3.0</td>\n",
              "      <td>1000.0</td>\n",
              "      <td>56.0</td>\n",
              "    </tr>\n",
              "    <tr>\n",
              "      <th>3</th>\n",
              "      <td>CONTACT</td>\n",
              "      <td>2.39</td>\n",
              "      <td>0.1</td>\n",
              "      <td>8.80</td>\n",
              "      <td>0.1</td>\n",
              "      <td>5.0</td>\n",
              "      <td>3437.0</td>\n",
              "      <td>544.0</td>\n",
              "    </tr>\n",
              "    <tr>\n",
              "      <th>4</th>\n",
              "      <td>CONTACT</td>\n",
              "      <td>1.44</td>\n",
              "      <td>0.1</td>\n",
              "      <td>6.70</td>\n",
              "      <td>0.1</td>\n",
              "      <td>3.5</td>\n",
              "      <td>3162.0</td>\n",
              "      <td>406.0</td>\n",
              "    </tr>\n",
              "    <tr>\n",
              "      <th>...</th>\n",
              "      <td>...</td>\n",
              "      <td>...</td>\n",
              "      <td>...</td>\n",
              "      <td>...</td>\n",
              "      <td>...</td>\n",
              "      <td>...</td>\n",
              "      <td>...</td>\n",
              "      <td>...</td>\n",
              "    </tr>\n",
              "    <tr>\n",
              "      <th>150</th>\n",
              "      <td>THERMO</td>\n",
              "      <td>0.55</td>\n",
              "      <td>0.1</td>\n",
              "      <td>3.67</td>\n",
              "      <td>0.1</td>\n",
              "      <td>4.0</td>\n",
              "      <td>7638.0</td>\n",
              "      <td>47.0</td>\n",
              "    </tr>\n",
              "    <tr>\n",
              "      <th>151</th>\n",
              "      <td>THERMO</td>\n",
              "      <td>0.20</td>\n",
              "      <td>0.1</td>\n",
              "      <td>3.04</td>\n",
              "      <td>0.1</td>\n",
              "      <td>4.0</td>\n",
              "      <td>5334.0</td>\n",
              "      <td>38.0</td>\n",
              "    </tr>\n",
              "    <tr>\n",
              "      <th>152</th>\n",
              "      <td>THERMO</td>\n",
              "      <td>0.16</td>\n",
              "      <td>0.1</td>\n",
              "      <td>2.18</td>\n",
              "      <td>0.1</td>\n",
              "      <td>4.0</td>\n",
              "      <td>3281.0</td>\n",
              "      <td>28.0</td>\n",
              "    </tr>\n",
              "    <tr>\n",
              "      <th>153</th>\n",
              "      <td>THERMO</td>\n",
              "      <td>0.90</td>\n",
              "      <td>0.1</td>\n",
              "      <td>5.20</td>\n",
              "      <td>0.1</td>\n",
              "      <td>4.0</td>\n",
              "      <td>7137.0</td>\n",
              "      <td>77.0</td>\n",
              "    </tr>\n",
              "    <tr>\n",
              "      <th>154</th>\n",
              "      <td>THERMO</td>\n",
              "      <td>0.96</td>\n",
              "      <td>0.1</td>\n",
              "      <td>9.88</td>\n",
              "      <td>0.1</td>\n",
              "      <td>4.0</td>\n",
              "      <td>8211.0</td>\n",
              "      <td>62.0</td>\n",
              "    </tr>\n",
              "  </tbody>\n",
              "</table>\n",
              "<p>155 rows × 8 columns</p>\n",
              "</div>"
            ],
            "text/plain": [
              "      techno  surface m²  % surface  ...  epaisseur   TOTAL  PIECE\n",
              "0    CONTACT        4.07        0.1  ...        4.0  7322.0  449.0\n",
              "1    CONTACT        2.37        0.1  ...        4.0  8897.0  315.0\n",
              "2    CONTACT        0.05        0.1  ...        3.0  1000.0   56.0\n",
              "3    CONTACT        2.39        0.1  ...        5.0  3437.0  544.0\n",
              "4    CONTACT        1.44        0.1  ...        3.5  3162.0  406.0\n",
              "..       ...         ...        ...  ...        ...     ...    ...\n",
              "150   THERMO        0.55        0.1  ...        4.0  7638.0   47.0\n",
              "151   THERMO        0.20        0.1  ...        4.0  5334.0   38.0\n",
              "152   THERMO        0.16        0.1  ...        4.0  3281.0   28.0\n",
              "153   THERMO        0.90        0.1  ...        4.0  7137.0   77.0\n",
              "154   THERMO        0.96        0.1  ...        4.0  8211.0   62.0\n",
              "\n",
              "[155 rows x 8 columns]"
            ]
          },
          "metadata": {},
          "execution_count": 37
        }
      ]
    },
    {
      "cell_type": "markdown",
      "metadata": {
        "id": "mcykAZceasjX"
      },
      "source": [
        "**Création d'un modèle**"
      ]
    },
    {
      "cell_type": "code",
      "metadata": {
        "id": "eP37ptiKapKc"
      },
      "source": [
        "df_cat=cat_data"
      ],
      "execution_count": 38,
      "outputs": []
    },
    {
      "cell_type": "code",
      "metadata": {
        "colab": {
          "base_uri": "https://localhost:8080/",
          "height": 419
        },
        "id": "fKObEHNJbTbY",
        "outputId": "d4cf324d-cd47-4d11-80a2-540299199dad"
      },
      "source": [
        "cat_data"
      ],
      "execution_count": 39,
      "outputs": [
        {
          "output_type": "execute_result",
          "data": {
            "text/html": [
              "<div>\n",
              "<style scoped>\n",
              "    .dataframe tbody tr th:only-of-type {\n",
              "        vertical-align: middle;\n",
              "    }\n",
              "\n",
              "    .dataframe tbody tr th {\n",
              "        vertical-align: top;\n",
              "    }\n",
              "\n",
              "    .dataframe thead th {\n",
              "        text-align: right;\n",
              "    }\n",
              "</style>\n",
              "<table border=\"1\" class=\"dataframe\">\n",
              "  <thead>\n",
              "    <tr style=\"text-align: right;\">\n",
              "      <th></th>\n",
              "      <th>techno</th>\n",
              "    </tr>\n",
              "  </thead>\n",
              "  <tbody>\n",
              "    <tr>\n",
              "      <th>0</th>\n",
              "      <td>CONTACT</td>\n",
              "    </tr>\n",
              "    <tr>\n",
              "      <th>1</th>\n",
              "      <td>CONTACT</td>\n",
              "    </tr>\n",
              "    <tr>\n",
              "      <th>2</th>\n",
              "      <td>CONTACT</td>\n",
              "    </tr>\n",
              "    <tr>\n",
              "      <th>3</th>\n",
              "      <td>CONTACT</td>\n",
              "    </tr>\n",
              "    <tr>\n",
              "      <th>4</th>\n",
              "      <td>CONTACT</td>\n",
              "    </tr>\n",
              "    <tr>\n",
              "      <th>...</th>\n",
              "      <td>...</td>\n",
              "    </tr>\n",
              "    <tr>\n",
              "      <th>150</th>\n",
              "      <td>THERMO</td>\n",
              "    </tr>\n",
              "    <tr>\n",
              "      <th>151</th>\n",
              "      <td>THERMO</td>\n",
              "    </tr>\n",
              "    <tr>\n",
              "      <th>152</th>\n",
              "      <td>THERMO</td>\n",
              "    </tr>\n",
              "    <tr>\n",
              "      <th>153</th>\n",
              "      <td>THERMO</td>\n",
              "    </tr>\n",
              "    <tr>\n",
              "      <th>154</th>\n",
              "      <td>THERMO</td>\n",
              "    </tr>\n",
              "  </tbody>\n",
              "</table>\n",
              "<p>155 rows × 1 columns</p>\n",
              "</div>"
            ],
            "text/plain": [
              "      techno\n",
              "0    CONTACT\n",
              "1    CONTACT\n",
              "2    CONTACT\n",
              "3    CONTACT\n",
              "4    CONTACT\n",
              "..       ...\n",
              "150   THERMO\n",
              "151   THERMO\n",
              "152   THERMO\n",
              "153   THERMO\n",
              "154   THERMO\n",
              "\n",
              "[155 rows x 1 columns]"
            ]
          },
          "metadata": {},
          "execution_count": 39
        }
      ]
    },
    {
      "cell_type": "code",
      "metadata": {
        "colab": {
          "base_uri": "https://localhost:8080/",
          "height": 419
        },
        "id": "gGPBpZDLbfHl",
        "outputId": "79be690c-a234-423d-a02f-7a4fb1cdc455"
      },
      "source": [
        "df_cat"
      ],
      "execution_count": 40,
      "outputs": [
        {
          "output_type": "execute_result",
          "data": {
            "text/html": [
              "<div>\n",
              "<style scoped>\n",
              "    .dataframe tbody tr th:only-of-type {\n",
              "        vertical-align: middle;\n",
              "    }\n",
              "\n",
              "    .dataframe tbody tr th {\n",
              "        vertical-align: top;\n",
              "    }\n",
              "\n",
              "    .dataframe thead th {\n",
              "        text-align: right;\n",
              "    }\n",
              "</style>\n",
              "<table border=\"1\" class=\"dataframe\">\n",
              "  <thead>\n",
              "    <tr style=\"text-align: right;\">\n",
              "      <th></th>\n",
              "      <th>techno</th>\n",
              "    </tr>\n",
              "  </thead>\n",
              "  <tbody>\n",
              "    <tr>\n",
              "      <th>0</th>\n",
              "      <td>CONTACT</td>\n",
              "    </tr>\n",
              "    <tr>\n",
              "      <th>1</th>\n",
              "      <td>CONTACT</td>\n",
              "    </tr>\n",
              "    <tr>\n",
              "      <th>2</th>\n",
              "      <td>CONTACT</td>\n",
              "    </tr>\n",
              "    <tr>\n",
              "      <th>3</th>\n",
              "      <td>CONTACT</td>\n",
              "    </tr>\n",
              "    <tr>\n",
              "      <th>4</th>\n",
              "      <td>CONTACT</td>\n",
              "    </tr>\n",
              "    <tr>\n",
              "      <th>...</th>\n",
              "      <td>...</td>\n",
              "    </tr>\n",
              "    <tr>\n",
              "      <th>150</th>\n",
              "      <td>THERMO</td>\n",
              "    </tr>\n",
              "    <tr>\n",
              "      <th>151</th>\n",
              "      <td>THERMO</td>\n",
              "    </tr>\n",
              "    <tr>\n",
              "      <th>152</th>\n",
              "      <td>THERMO</td>\n",
              "    </tr>\n",
              "    <tr>\n",
              "      <th>153</th>\n",
              "      <td>THERMO</td>\n",
              "    </tr>\n",
              "    <tr>\n",
              "      <th>154</th>\n",
              "      <td>THERMO</td>\n",
              "    </tr>\n",
              "  </tbody>\n",
              "</table>\n",
              "<p>155 rows × 1 columns</p>\n",
              "</div>"
            ],
            "text/plain": [
              "      techno\n",
              "0    CONTACT\n",
              "1    CONTACT\n",
              "2    CONTACT\n",
              "3    CONTACT\n",
              "4    CONTACT\n",
              "..       ...\n",
              "150   THERMO\n",
              "151   THERMO\n",
              "152   THERMO\n",
              "153   THERMO\n",
              "154   THERMO\n",
              "\n",
              "[155 rows x 1 columns]"
            ]
          },
          "metadata": {},
          "execution_count": 40
        }
      ]
    },
    {
      "cell_type": "code",
      "metadata": {
        "colab": {
          "base_uri": "https://localhost:8080/",
          "height": 419
        },
        "id": "C8x4m35Zbsax",
        "outputId": "a1fe9f03-0364-4dd9-807a-5b12d0f6a05f"
      },
      "source": [
        "#Remplacer les valeurs catégorique par les valeurs numériques\n",
        "df_cat=pd.get_dummies(df_cat,drop_first=True)\n",
        "df_cat"
      ],
      "execution_count": 41,
      "outputs": [
        {
          "output_type": "execute_result",
          "data": {
            "text/html": [
              "<div>\n",
              "<style scoped>\n",
              "    .dataframe tbody tr th:only-of-type {\n",
              "        vertical-align: middle;\n",
              "    }\n",
              "\n",
              "    .dataframe tbody tr th {\n",
              "        vertical-align: top;\n",
              "    }\n",
              "\n",
              "    .dataframe thead th {\n",
              "        text-align: right;\n",
              "    }\n",
              "</style>\n",
              "<table border=\"1\" class=\"dataframe\">\n",
              "  <thead>\n",
              "    <tr style=\"text-align: right;\">\n",
              "      <th></th>\n",
              "      <th>techno_RTM GELCOAT</th>\n",
              "      <th>techno_THERMO</th>\n",
              "    </tr>\n",
              "  </thead>\n",
              "  <tbody>\n",
              "    <tr>\n",
              "      <th>0</th>\n",
              "      <td>0</td>\n",
              "      <td>0</td>\n",
              "    </tr>\n",
              "    <tr>\n",
              "      <th>1</th>\n",
              "      <td>0</td>\n",
              "      <td>0</td>\n",
              "    </tr>\n",
              "    <tr>\n",
              "      <th>2</th>\n",
              "      <td>0</td>\n",
              "      <td>0</td>\n",
              "    </tr>\n",
              "    <tr>\n",
              "      <th>3</th>\n",
              "      <td>0</td>\n",
              "      <td>0</td>\n",
              "    </tr>\n",
              "    <tr>\n",
              "      <th>4</th>\n",
              "      <td>0</td>\n",
              "      <td>0</td>\n",
              "    </tr>\n",
              "    <tr>\n",
              "      <th>...</th>\n",
              "      <td>...</td>\n",
              "      <td>...</td>\n",
              "    </tr>\n",
              "    <tr>\n",
              "      <th>150</th>\n",
              "      <td>0</td>\n",
              "      <td>1</td>\n",
              "    </tr>\n",
              "    <tr>\n",
              "      <th>151</th>\n",
              "      <td>0</td>\n",
              "      <td>1</td>\n",
              "    </tr>\n",
              "    <tr>\n",
              "      <th>152</th>\n",
              "      <td>0</td>\n",
              "      <td>1</td>\n",
              "    </tr>\n",
              "    <tr>\n",
              "      <th>153</th>\n",
              "      <td>0</td>\n",
              "      <td>1</td>\n",
              "    </tr>\n",
              "    <tr>\n",
              "      <th>154</th>\n",
              "      <td>0</td>\n",
              "      <td>1</td>\n",
              "    </tr>\n",
              "  </tbody>\n",
              "</table>\n",
              "<p>155 rows × 2 columns</p>\n",
              "</div>"
            ],
            "text/plain": [
              "     techno_RTM GELCOAT  techno_THERMO\n",
              "0                     0              0\n",
              "1                     0              0\n",
              "2                     0              0\n",
              "3                     0              0\n",
              "4                     0              0\n",
              "..                  ...            ...\n",
              "150                   0              1\n",
              "151                   0              1\n",
              "152                   0              1\n",
              "153                   0              1\n",
              "154                   0              1\n",
              "\n",
              "[155 rows x 2 columns]"
            ]
          },
          "metadata": {},
          "execution_count": 41
        }
      ]
    },
    {
      "cell_type": "code",
      "metadata": {
        "colab": {
          "base_uri": "https://localhost:8080/",
          "height": 419
        },
        "id": "Fmx24S4GcOcG",
        "outputId": "19524348-9352-48c4-b9fb-a436551a4032"
      },
      "source": [
        "num_data"
      ],
      "execution_count": 42,
      "outputs": [
        {
          "output_type": "execute_result",
          "data": {
            "text/html": [
              "<div>\n",
              "<style scoped>\n",
              "    .dataframe tbody tr th:only-of-type {\n",
              "        vertical-align: middle;\n",
              "    }\n",
              "\n",
              "    .dataframe tbody tr th {\n",
              "        vertical-align: top;\n",
              "    }\n",
              "\n",
              "    .dataframe thead th {\n",
              "        text-align: right;\n",
              "    }\n",
              "</style>\n",
              "<table border=\"1\" class=\"dataframe\">\n",
              "  <thead>\n",
              "    <tr style=\"text-align: right;\">\n",
              "      <th></th>\n",
              "      <th>surface m²</th>\n",
              "      <th>% surface</th>\n",
              "      <th>longueur m</th>\n",
              "      <th>% longueur</th>\n",
              "      <th>epaisseur</th>\n",
              "      <th>TOTAL</th>\n",
              "      <th>PIECE</th>\n",
              "    </tr>\n",
              "  </thead>\n",
              "  <tbody>\n",
              "    <tr>\n",
              "      <th>0</th>\n",
              "      <td>4.07</td>\n",
              "      <td>0.1</td>\n",
              "      <td>7.22</td>\n",
              "      <td>0.1</td>\n",
              "      <td>4.0</td>\n",
              "      <td>7322.0</td>\n",
              "      <td>449.0</td>\n",
              "    </tr>\n",
              "    <tr>\n",
              "      <th>1</th>\n",
              "      <td>2.37</td>\n",
              "      <td>0.1</td>\n",
              "      <td>5.50</td>\n",
              "      <td>0.1</td>\n",
              "      <td>4.0</td>\n",
              "      <td>8897.0</td>\n",
              "      <td>315.0</td>\n",
              "    </tr>\n",
              "    <tr>\n",
              "      <th>2</th>\n",
              "      <td>0.05</td>\n",
              "      <td>0.1</td>\n",
              "      <td>1.15</td>\n",
              "      <td>0.1</td>\n",
              "      <td>3.0</td>\n",
              "      <td>1000.0</td>\n",
              "      <td>56.0</td>\n",
              "    </tr>\n",
              "    <tr>\n",
              "      <th>3</th>\n",
              "      <td>2.39</td>\n",
              "      <td>0.1</td>\n",
              "      <td>8.80</td>\n",
              "      <td>0.1</td>\n",
              "      <td>5.0</td>\n",
              "      <td>3437.0</td>\n",
              "      <td>544.0</td>\n",
              "    </tr>\n",
              "    <tr>\n",
              "      <th>4</th>\n",
              "      <td>1.44</td>\n",
              "      <td>0.1</td>\n",
              "      <td>6.70</td>\n",
              "      <td>0.1</td>\n",
              "      <td>3.5</td>\n",
              "      <td>3162.0</td>\n",
              "      <td>406.0</td>\n",
              "    </tr>\n",
              "    <tr>\n",
              "      <th>...</th>\n",
              "      <td>...</td>\n",
              "      <td>...</td>\n",
              "      <td>...</td>\n",
              "      <td>...</td>\n",
              "      <td>...</td>\n",
              "      <td>...</td>\n",
              "      <td>...</td>\n",
              "    </tr>\n",
              "    <tr>\n",
              "      <th>150</th>\n",
              "      <td>0.55</td>\n",
              "      <td>0.1</td>\n",
              "      <td>3.67</td>\n",
              "      <td>0.1</td>\n",
              "      <td>4.0</td>\n",
              "      <td>7638.0</td>\n",
              "      <td>47.0</td>\n",
              "    </tr>\n",
              "    <tr>\n",
              "      <th>151</th>\n",
              "      <td>0.20</td>\n",
              "      <td>0.1</td>\n",
              "      <td>3.04</td>\n",
              "      <td>0.1</td>\n",
              "      <td>4.0</td>\n",
              "      <td>5334.0</td>\n",
              "      <td>38.0</td>\n",
              "    </tr>\n",
              "    <tr>\n",
              "      <th>152</th>\n",
              "      <td>0.16</td>\n",
              "      <td>0.1</td>\n",
              "      <td>2.18</td>\n",
              "      <td>0.1</td>\n",
              "      <td>4.0</td>\n",
              "      <td>3281.0</td>\n",
              "      <td>28.0</td>\n",
              "    </tr>\n",
              "    <tr>\n",
              "      <th>153</th>\n",
              "      <td>0.90</td>\n",
              "      <td>0.1</td>\n",
              "      <td>5.20</td>\n",
              "      <td>0.1</td>\n",
              "      <td>4.0</td>\n",
              "      <td>7137.0</td>\n",
              "      <td>77.0</td>\n",
              "    </tr>\n",
              "    <tr>\n",
              "      <th>154</th>\n",
              "      <td>0.96</td>\n",
              "      <td>0.1</td>\n",
              "      <td>9.88</td>\n",
              "      <td>0.1</td>\n",
              "      <td>4.0</td>\n",
              "      <td>8211.0</td>\n",
              "      <td>62.0</td>\n",
              "    </tr>\n",
              "  </tbody>\n",
              "</table>\n",
              "<p>155 rows × 7 columns</p>\n",
              "</div>"
            ],
            "text/plain": [
              "     surface m²  % surface  longueur m  % longueur  epaisseur   TOTAL  PIECE\n",
              "0          4.07        0.1        7.22         0.1        4.0  7322.0  449.0\n",
              "1          2.37        0.1        5.50         0.1        4.0  8897.0  315.0\n",
              "2          0.05        0.1        1.15         0.1        3.0  1000.0   56.0\n",
              "3          2.39        0.1        8.80         0.1        5.0  3437.0  544.0\n",
              "4          1.44        0.1        6.70         0.1        3.5  3162.0  406.0\n",
              "..          ...        ...         ...         ...        ...     ...    ...\n",
              "150        0.55        0.1        3.67         0.1        4.0  7638.0   47.0\n",
              "151        0.20        0.1        3.04         0.1        4.0  5334.0   38.0\n",
              "152        0.16        0.1        2.18         0.1        4.0  3281.0   28.0\n",
              "153        0.90        0.1        5.20         0.1        4.0  7137.0   77.0\n",
              "154        0.96        0.1        9.88         0.1        4.0  8211.0   62.0\n",
              "\n",
              "[155 rows x 7 columns]"
            ]
          },
          "metadata": {},
          "execution_count": 42
        }
      ]
    },
    {
      "cell_type": "code",
      "metadata": {
        "id": "NAzYN7U_ciQB"
      },
      "source": [
        "#Concatiner les num_data avec df_cat\n",
        "df_encoded=pd.concat([df_cat,num_data],axis=1)"
      ],
      "execution_count": 43,
      "outputs": []
    },
    {
      "cell_type": "code",
      "metadata": {
        "colab": {
          "base_uri": "https://localhost:8080/",
          "height": 419
        },
        "id": "4O2Ip97Tc_Au",
        "outputId": "3a8c78cb-3f4b-463c-b2a1-9e30462ab556"
      },
      "source": [
        "df_encoded"
      ],
      "execution_count": 44,
      "outputs": [
        {
          "output_type": "execute_result",
          "data": {
            "text/html": [
              "<div>\n",
              "<style scoped>\n",
              "    .dataframe tbody tr th:only-of-type {\n",
              "        vertical-align: middle;\n",
              "    }\n",
              "\n",
              "    .dataframe tbody tr th {\n",
              "        vertical-align: top;\n",
              "    }\n",
              "\n",
              "    .dataframe thead th {\n",
              "        text-align: right;\n",
              "    }\n",
              "</style>\n",
              "<table border=\"1\" class=\"dataframe\">\n",
              "  <thead>\n",
              "    <tr style=\"text-align: right;\">\n",
              "      <th></th>\n",
              "      <th>techno_RTM GELCOAT</th>\n",
              "      <th>techno_THERMO</th>\n",
              "      <th>surface m²</th>\n",
              "      <th>% surface</th>\n",
              "      <th>longueur m</th>\n",
              "      <th>% longueur</th>\n",
              "      <th>epaisseur</th>\n",
              "      <th>TOTAL</th>\n",
              "      <th>PIECE</th>\n",
              "    </tr>\n",
              "  </thead>\n",
              "  <tbody>\n",
              "    <tr>\n",
              "      <th>0</th>\n",
              "      <td>0</td>\n",
              "      <td>0</td>\n",
              "      <td>4.07</td>\n",
              "      <td>0.1</td>\n",
              "      <td>7.22</td>\n",
              "      <td>0.1</td>\n",
              "      <td>4.0</td>\n",
              "      <td>7322.0</td>\n",
              "      <td>449.0</td>\n",
              "    </tr>\n",
              "    <tr>\n",
              "      <th>1</th>\n",
              "      <td>0</td>\n",
              "      <td>0</td>\n",
              "      <td>2.37</td>\n",
              "      <td>0.1</td>\n",
              "      <td>5.50</td>\n",
              "      <td>0.1</td>\n",
              "      <td>4.0</td>\n",
              "      <td>8897.0</td>\n",
              "      <td>315.0</td>\n",
              "    </tr>\n",
              "    <tr>\n",
              "      <th>2</th>\n",
              "      <td>0</td>\n",
              "      <td>0</td>\n",
              "      <td>0.05</td>\n",
              "      <td>0.1</td>\n",
              "      <td>1.15</td>\n",
              "      <td>0.1</td>\n",
              "      <td>3.0</td>\n",
              "      <td>1000.0</td>\n",
              "      <td>56.0</td>\n",
              "    </tr>\n",
              "    <tr>\n",
              "      <th>3</th>\n",
              "      <td>0</td>\n",
              "      <td>0</td>\n",
              "      <td>2.39</td>\n",
              "      <td>0.1</td>\n",
              "      <td>8.80</td>\n",
              "      <td>0.1</td>\n",
              "      <td>5.0</td>\n",
              "      <td>3437.0</td>\n",
              "      <td>544.0</td>\n",
              "    </tr>\n",
              "    <tr>\n",
              "      <th>4</th>\n",
              "      <td>0</td>\n",
              "      <td>0</td>\n",
              "      <td>1.44</td>\n",
              "      <td>0.1</td>\n",
              "      <td>6.70</td>\n",
              "      <td>0.1</td>\n",
              "      <td>3.5</td>\n",
              "      <td>3162.0</td>\n",
              "      <td>406.0</td>\n",
              "    </tr>\n",
              "    <tr>\n",
              "      <th>...</th>\n",
              "      <td>...</td>\n",
              "      <td>...</td>\n",
              "      <td>...</td>\n",
              "      <td>...</td>\n",
              "      <td>...</td>\n",
              "      <td>...</td>\n",
              "      <td>...</td>\n",
              "      <td>...</td>\n",
              "      <td>...</td>\n",
              "    </tr>\n",
              "    <tr>\n",
              "      <th>150</th>\n",
              "      <td>0</td>\n",
              "      <td>1</td>\n",
              "      <td>0.55</td>\n",
              "      <td>0.1</td>\n",
              "      <td>3.67</td>\n",
              "      <td>0.1</td>\n",
              "      <td>4.0</td>\n",
              "      <td>7638.0</td>\n",
              "      <td>47.0</td>\n",
              "    </tr>\n",
              "    <tr>\n",
              "      <th>151</th>\n",
              "      <td>0</td>\n",
              "      <td>1</td>\n",
              "      <td>0.20</td>\n",
              "      <td>0.1</td>\n",
              "      <td>3.04</td>\n",
              "      <td>0.1</td>\n",
              "      <td>4.0</td>\n",
              "      <td>5334.0</td>\n",
              "      <td>38.0</td>\n",
              "    </tr>\n",
              "    <tr>\n",
              "      <th>152</th>\n",
              "      <td>0</td>\n",
              "      <td>1</td>\n",
              "      <td>0.16</td>\n",
              "      <td>0.1</td>\n",
              "      <td>2.18</td>\n",
              "      <td>0.1</td>\n",
              "      <td>4.0</td>\n",
              "      <td>3281.0</td>\n",
              "      <td>28.0</td>\n",
              "    </tr>\n",
              "    <tr>\n",
              "      <th>153</th>\n",
              "      <td>0</td>\n",
              "      <td>1</td>\n",
              "      <td>0.90</td>\n",
              "      <td>0.1</td>\n",
              "      <td>5.20</td>\n",
              "      <td>0.1</td>\n",
              "      <td>4.0</td>\n",
              "      <td>7137.0</td>\n",
              "      <td>77.0</td>\n",
              "    </tr>\n",
              "    <tr>\n",
              "      <th>154</th>\n",
              "      <td>0</td>\n",
              "      <td>1</td>\n",
              "      <td>0.96</td>\n",
              "      <td>0.1</td>\n",
              "      <td>9.88</td>\n",
              "      <td>0.1</td>\n",
              "      <td>4.0</td>\n",
              "      <td>8211.0</td>\n",
              "      <td>62.0</td>\n",
              "    </tr>\n",
              "  </tbody>\n",
              "</table>\n",
              "<p>155 rows × 9 columns</p>\n",
              "</div>"
            ],
            "text/plain": [
              "     techno_RTM GELCOAT  techno_THERMO  surface m²  ...  epaisseur   TOTAL  PIECE\n",
              "0                     0              0        4.07  ...        4.0  7322.0  449.0\n",
              "1                     0              0        2.37  ...        4.0  8897.0  315.0\n",
              "2                     0              0        0.05  ...        3.0  1000.0   56.0\n",
              "3                     0              0        2.39  ...        5.0  3437.0  544.0\n",
              "4                     0              0        1.44  ...        3.5  3162.0  406.0\n",
              "..                  ...            ...         ...  ...        ...     ...    ...\n",
              "150                   0              1        0.55  ...        4.0  7638.0   47.0\n",
              "151                   0              1        0.20  ...        4.0  5334.0   38.0\n",
              "152                   0              1        0.16  ...        4.0  3281.0   28.0\n",
              "153                   0              1        0.90  ...        4.0  7137.0   77.0\n",
              "154                   0              1        0.96  ...        4.0  8211.0   62.0\n",
              "\n",
              "[155 rows x 9 columns]"
            ]
          },
          "metadata": {},
          "execution_count": 44
        }
      ]
    },
    {
      "cell_type": "code",
      "metadata": {
        "colab": {
          "base_uri": "https://localhost:8080/"
        },
        "id": "7eB5lJkOdEIT",
        "outputId": "9d3de0d5-a946-4294-c9b7-6844e615a444"
      },
      "source": [
        "#Mettre la variable target (PIECE ) a part\n",
        "y=df_encoded['PIECE']\n",
        "y"
      ],
      "execution_count": 45,
      "outputs": [
        {
          "output_type": "execute_result",
          "data": {
            "text/plain": [
              "0      449.0\n",
              "1      315.0\n",
              "2       56.0\n",
              "3      544.0\n",
              "4      406.0\n",
              "       ...  \n",
              "150     47.0\n",
              "151     38.0\n",
              "152     28.0\n",
              "153     77.0\n",
              "154     62.0\n",
              "Name: PIECE, Length: 155, dtype: float64"
            ]
          },
          "metadata": {},
          "execution_count": 45
        }
      ]
    },
    {
      "cell_type": "code",
      "metadata": {
        "id": "gMCihsqOdMNV"
      },
      "source": [
        "X=df_encoded.drop('PIECE',axis=1)"
      ],
      "execution_count": 46,
      "outputs": []
    },
    {
      "cell_type": "code",
      "metadata": {
        "colab": {
          "base_uri": "https://localhost:8080/",
          "height": 419
        },
        "id": "KS8YEWFEdiz4",
        "outputId": "3fb94a02-295e-48a4-831c-e7a90de587de"
      },
      "source": [
        "X"
      ],
      "execution_count": 47,
      "outputs": [
        {
          "output_type": "execute_result",
          "data": {
            "text/html": [
              "<div>\n",
              "<style scoped>\n",
              "    .dataframe tbody tr th:only-of-type {\n",
              "        vertical-align: middle;\n",
              "    }\n",
              "\n",
              "    .dataframe tbody tr th {\n",
              "        vertical-align: top;\n",
              "    }\n",
              "\n",
              "    .dataframe thead th {\n",
              "        text-align: right;\n",
              "    }\n",
              "</style>\n",
              "<table border=\"1\" class=\"dataframe\">\n",
              "  <thead>\n",
              "    <tr style=\"text-align: right;\">\n",
              "      <th></th>\n",
              "      <th>techno_RTM GELCOAT</th>\n",
              "      <th>techno_THERMO</th>\n",
              "      <th>surface m²</th>\n",
              "      <th>% surface</th>\n",
              "      <th>longueur m</th>\n",
              "      <th>% longueur</th>\n",
              "      <th>epaisseur</th>\n",
              "      <th>TOTAL</th>\n",
              "    </tr>\n",
              "  </thead>\n",
              "  <tbody>\n",
              "    <tr>\n",
              "      <th>0</th>\n",
              "      <td>0</td>\n",
              "      <td>0</td>\n",
              "      <td>4.07</td>\n",
              "      <td>0.1</td>\n",
              "      <td>7.22</td>\n",
              "      <td>0.1</td>\n",
              "      <td>4.0</td>\n",
              "      <td>7322.0</td>\n",
              "    </tr>\n",
              "    <tr>\n",
              "      <th>1</th>\n",
              "      <td>0</td>\n",
              "      <td>0</td>\n",
              "      <td>2.37</td>\n",
              "      <td>0.1</td>\n",
              "      <td>5.50</td>\n",
              "      <td>0.1</td>\n",
              "      <td>4.0</td>\n",
              "      <td>8897.0</td>\n",
              "    </tr>\n",
              "    <tr>\n",
              "      <th>2</th>\n",
              "      <td>0</td>\n",
              "      <td>0</td>\n",
              "      <td>0.05</td>\n",
              "      <td>0.1</td>\n",
              "      <td>1.15</td>\n",
              "      <td>0.1</td>\n",
              "      <td>3.0</td>\n",
              "      <td>1000.0</td>\n",
              "    </tr>\n",
              "    <tr>\n",
              "      <th>3</th>\n",
              "      <td>0</td>\n",
              "      <td>0</td>\n",
              "      <td>2.39</td>\n",
              "      <td>0.1</td>\n",
              "      <td>8.80</td>\n",
              "      <td>0.1</td>\n",
              "      <td>5.0</td>\n",
              "      <td>3437.0</td>\n",
              "    </tr>\n",
              "    <tr>\n",
              "      <th>4</th>\n",
              "      <td>0</td>\n",
              "      <td>0</td>\n",
              "      <td>1.44</td>\n",
              "      <td>0.1</td>\n",
              "      <td>6.70</td>\n",
              "      <td>0.1</td>\n",
              "      <td>3.5</td>\n",
              "      <td>3162.0</td>\n",
              "    </tr>\n",
              "    <tr>\n",
              "      <th>...</th>\n",
              "      <td>...</td>\n",
              "      <td>...</td>\n",
              "      <td>...</td>\n",
              "      <td>...</td>\n",
              "      <td>...</td>\n",
              "      <td>...</td>\n",
              "      <td>...</td>\n",
              "      <td>...</td>\n",
              "    </tr>\n",
              "    <tr>\n",
              "      <th>150</th>\n",
              "      <td>0</td>\n",
              "      <td>1</td>\n",
              "      <td>0.55</td>\n",
              "      <td>0.1</td>\n",
              "      <td>3.67</td>\n",
              "      <td>0.1</td>\n",
              "      <td>4.0</td>\n",
              "      <td>7638.0</td>\n",
              "    </tr>\n",
              "    <tr>\n",
              "      <th>151</th>\n",
              "      <td>0</td>\n",
              "      <td>1</td>\n",
              "      <td>0.20</td>\n",
              "      <td>0.1</td>\n",
              "      <td>3.04</td>\n",
              "      <td>0.1</td>\n",
              "      <td>4.0</td>\n",
              "      <td>5334.0</td>\n",
              "    </tr>\n",
              "    <tr>\n",
              "      <th>152</th>\n",
              "      <td>0</td>\n",
              "      <td>1</td>\n",
              "      <td>0.16</td>\n",
              "      <td>0.1</td>\n",
              "      <td>2.18</td>\n",
              "      <td>0.1</td>\n",
              "      <td>4.0</td>\n",
              "      <td>3281.0</td>\n",
              "    </tr>\n",
              "    <tr>\n",
              "      <th>153</th>\n",
              "      <td>0</td>\n",
              "      <td>1</td>\n",
              "      <td>0.90</td>\n",
              "      <td>0.1</td>\n",
              "      <td>5.20</td>\n",
              "      <td>0.1</td>\n",
              "      <td>4.0</td>\n",
              "      <td>7137.0</td>\n",
              "    </tr>\n",
              "    <tr>\n",
              "      <th>154</th>\n",
              "      <td>0</td>\n",
              "      <td>1</td>\n",
              "      <td>0.96</td>\n",
              "      <td>0.1</td>\n",
              "      <td>9.88</td>\n",
              "      <td>0.1</td>\n",
              "      <td>4.0</td>\n",
              "      <td>8211.0</td>\n",
              "    </tr>\n",
              "  </tbody>\n",
              "</table>\n",
              "<p>155 rows × 8 columns</p>\n",
              "</div>"
            ],
            "text/plain": [
              "     techno_RTM GELCOAT  techno_THERMO  ...  epaisseur   TOTAL\n",
              "0                     0              0  ...        4.0  7322.0\n",
              "1                     0              0  ...        4.0  8897.0\n",
              "2                     0              0  ...        3.0  1000.0\n",
              "3                     0              0  ...        5.0  3437.0\n",
              "4                     0              0  ...        3.5  3162.0\n",
              "..                  ...            ...  ...        ...     ...\n",
              "150                   0              1  ...        4.0  7638.0\n",
              "151                   0              1  ...        4.0  5334.0\n",
              "152                   0              1  ...        4.0  3281.0\n",
              "153                   0              1  ...        4.0  7137.0\n",
              "154                   0              1  ...        4.0  8211.0\n",
              "\n",
              "[155 rows x 8 columns]"
            ]
          },
          "metadata": {},
          "execution_count": 47
        }
      ]
    },
    {
      "cell_type": "code",
      "metadata": {
        "id": "sNCDPfE9dk7d"
      },
      "source": [
        "# Spécifier la partie test et la partie train \n",
        "x_train,x_test,y_train,y_test=train_test_split(X,y,test_size=0.2,random_state=6)"
      ],
      "execution_count": 48,
      "outputs": []
    },
    {
      "cell_type": "code",
      "metadata": {
        "id": "CSKVDIRjfFDU"
      },
      "source": [
        "#Instancier le modele \n",
        "clf=LogisticRegression()\n"
      ],
      "execution_count": 49,
      "outputs": []
    },
    {
      "cell_type": "code",
      "metadata": {
        "id": "IPycG6_JiCko"
      },
      "source": [
        "y_train=y_train.astype('int')\n",
        "y_test=y_test.astype('int')\n",
        "\n",
        " \n"
      ],
      "execution_count": 51,
      "outputs": []
    },
    {
      "cell_type": "code",
      "metadata": {
        "colab": {
          "base_uri": "https://localhost:8080/"
        },
        "id": "XAL-sokEE8EI",
        "outputId": "83346af2-69a5-40ec-8979-688f35c44b1b"
      },
      "source": [
        "x_train.shape, y_train.shape, x_test.shape"
      ],
      "execution_count": 86,
      "outputs": [
        {
          "output_type": "execute_result",
          "data": {
            "text/plain": [
              "((124, 8), (124,), (31, 8))"
            ]
          },
          "metadata": {},
          "execution_count": 86
        }
      ]
    },
    {
      "cell_type": "code",
      "metadata": {
        "colab": {
          "base_uri": "https://localhost:8080/"
        },
        "id": "LTpEQo_miJCh",
        "outputId": "83449bc0-d5dd-4e5d-be54-a863feb7b7d5"
      },
      "source": [
        "clf=LogisticRegression()\n",
        "clf.fit(x_train,y_train)"
      ],
      "execution_count": 52,
      "outputs": [
        {
          "output_type": "execute_result",
          "data": {
            "text/plain": [
              "LogisticRegression(C=1.0, class_weight=None, dual=False, fit_intercept=True,\n",
              "                   intercept_scaling=1, l1_ratio=None, max_iter=100,\n",
              "                   multi_class='auto', n_jobs=None, penalty='l2',\n",
              "                   random_state=None, solver='lbfgs', tol=0.0001, verbose=0,\n",
              "                   warm_start=False)"
            ]
          },
          "metadata": {},
          "execution_count": 52
        }
      ]
    },
    {
      "cell_type": "code",
      "metadata": {
        "id": "OWJ07UNClFEu"
      },
      "source": [
        "pred=clf.predict(x_test)"
      ],
      "execution_count": 53,
      "outputs": []
    },
    {
      "cell_type": "code",
      "metadata": {
        "colab": {
          "base_uri": "https://localhost:8080/"
        },
        "id": "gjTaMNlqlTWt",
        "outputId": "99918c2c-c55f-427e-a9ca-da61c2e6152b"
      },
      "source": [
        "pred"
      ],
      "execution_count": 62,
      "outputs": [
        {
          "output_type": "execute_result",
          "data": {
            "text/plain": [
              "array([ 28,  63,  27,  27,  28,  28,  28,  67,  49, 315,  63,  28,  49,\n",
              "        28,  28,  63,  28,  28,  28,  27, 286, 315, 315,  27,  27,  67,\n",
              "        67,  63,  28, 896, 896])"
            ]
          },
          "metadata": {},
          "execution_count": 62
        }
      ]
    },
    {
      "cell_type": "code",
      "metadata": {
        "colab": {
          "base_uri": "https://localhost:8080/"
        },
        "id": "bxzkSXO6liHq",
        "outputId": "2ef5cf43-6294-4ec7-f35d-87a0cb4f1266"
      },
      "source": [
        "y_test"
      ],
      "execution_count": 55,
      "outputs": [
        {
          "output_type": "execute_result",
          "data": {
            "text/plain": [
              "71       37\n",
              "4       406\n",
              "140      89\n",
              "102      23\n",
              "2        56\n",
              "45       19\n",
              "139      40\n",
              "88       29\n",
              "64       53\n",
              "104      41\n",
              "59       69\n",
              "72       24\n",
              "55       47\n",
              "131      50\n",
              "118      22\n",
              "83       82\n",
              "126      46\n",
              "81       32\n",
              "107      18\n",
              "52       23\n",
              "39      343\n",
              "98       38\n",
              "23      273\n",
              "44       25\n",
              "30      190\n",
              "0       449\n",
              "121      51\n",
              "74       67\n",
              "89       34\n",
              "37     2422\n",
              "32     2170\n",
              "Name: PIECE, dtype: int64"
            ]
          },
          "metadata": {},
          "execution_count": 55
        }
      ]
    },
    {
      "cell_type": "code",
      "metadata": {
        "colab": {
          "base_uri": "https://localhost:8080/"
        },
        "id": "DTnbjACjl8oU",
        "outputId": "f685213a-9c24-41ea-a29c-d50b071bc10a"
      },
      "source": [
        "accuracy_score(y_test,pred)"
      ],
      "execution_count": 56,
      "outputs": [
        {
          "output_type": "execute_result",
          "data": {
            "text/plain": [
              "0.0"
            ]
          },
          "metadata": {},
          "execution_count": 56
        }
      ]
    },
    {
      "cell_type": "code",
      "metadata": {
        "colab": {
          "base_uri": "https://localhost:8080/"
        },
        "id": "8wx0V3viCs7l",
        "outputId": "0962f793-bdfc-4b2d-f800-1b12c4be7f85"
      },
      "source": [
        "logreg = LogisticRegression()\n",
        "logreg.fit(x_train, y_train)\n",
        "Y_pred = logreg.predict(x_test)\n",
        "acc_log = round(logreg.score(x_train, y_train) * 100, 2)\n",
        "acc_log"
      ],
      "execution_count": 63,
      "outputs": [
        {
          "output_type": "execute_result",
          "data": {
            "text/plain": [
              "14.52"
            ]
          },
          "metadata": {},
          "execution_count": 63
        }
      ]
    },
    {
      "cell_type": "code",
      "metadata": {
        "colab": {
          "base_uri": "https://localhost:8080/"
        },
        "id": "dfEyuwyUDTC2",
        "outputId": "5f8119da-200b-4643-b51a-09639da77356"
      },
      "source": [
        "# Support Vector Machines\n",
        "\n",
        "svc = SVC()\n",
        "svc.fit(x_train, y_train)\n",
        "Y_pred = svc.predict(x_test)\n",
        "acc_svc = round(svc.score(x_train, y_train) * 100, 5)\n",
        "acc_svc"
      ],
      "execution_count": 71,
      "outputs": [
        {
          "output_type": "execute_result",
          "data": {
            "text/plain": [
              "9.67742"
            ]
          },
          "metadata": {},
          "execution_count": 71
        }
      ]
    },
    {
      "cell_type": "code",
      "metadata": {
        "colab": {
          "base_uri": "https://localhost:8080/"
        },
        "id": "nk4qor1ZDtUa",
        "outputId": "5bb30412-9f37-4457-d45a-f11133931155"
      },
      "source": [
        "knn = KNeighborsClassifier(n_neighbors = 1)\n",
        "knn.fit(x_train, y_train)\n",
        "Y_pred = knn.predict(x_train)\n",
        "acc_knn = round(knn.score(x_train, y_train) * 100, 25)\n",
        "acc_knn"
      ],
      "execution_count": 82,
      "outputs": [
        {
          "output_type": "execute_result",
          "data": {
            "text/plain": [
              "99.19354838709677"
            ]
          },
          "metadata": {},
          "execution_count": 82
        }
      ]
    },
    {
      "cell_type": "code",
      "metadata": {
        "colab": {
          "base_uri": "https://localhost:8080/"
        },
        "id": "zx5_Lbk0EOjl",
        "outputId": "eaebd15e-af0a-4210-fda4-9b0798ba8bef"
      },
      "source": [
        "# Gaussian Naive Bayes\n",
        "\n",
        "gaussian = GaussianNB()\n",
        "gaussian.fit(x_train, y_train)\n",
        "Y_pred = gaussian.predict(x_test)\n",
        "acc_gaussian = round(gaussian.score(x_train, y_train) * 100, 2)\n",
        "acc_gaussian\n"
      ],
      "execution_count": 85,
      "outputs": [
        {
          "output_type": "execute_result",
          "data": {
            "text/plain": [
              "82.26"
            ]
          },
          "metadata": {},
          "execution_count": 85
        }
      ]
    },
    {
      "cell_type": "code",
      "metadata": {
        "colab": {
          "base_uri": "https://localhost:8080/"
        },
        "id": "BOOhnnjWFGDj",
        "outputId": "8adf284d-9b4a-4226-da5c-51ffd082ecf8"
      },
      "source": [
        "# Perceptron\n",
        "\n",
        "perceptron = Perceptron()\n",
        "perceptron.fit(x_train, y_train)\n",
        "Y_pred = perceptron.predict(x_test)\n",
        "acc_perceptron = round(perceptron.score(x_train, y_train) * 100, 2)\n",
        "acc_perceptron"
      ],
      "execution_count": 91,
      "outputs": [
        {
          "output_type": "execute_result",
          "data": {
            "text/plain": [
              "0.81"
            ]
          },
          "metadata": {},
          "execution_count": 91
        }
      ]
    },
    {
      "cell_type": "code",
      "metadata": {
        "colab": {
          "base_uri": "https://localhost:8080/"
        },
        "id": "kJ4fAusBFhNM",
        "outputId": "9e8b52dc-09be-438a-b6c8-253a5cf65661"
      },
      "source": [
        "# Linear SVC\n",
        "\n",
        "linear_svc = LinearSVC()\n",
        "linear_svc.fit(x_train, y_train)\n",
        "Y_pred = linear_svc.predict(x_test)\n",
        "acc_linear_svc = round(linear_svc.score(x_train, y_train) * 100, 2)\n",
        "acc_linear_svc"
      ],
      "execution_count": 94,
      "outputs": [
        {
          "output_type": "execute_result",
          "data": {
            "text/plain": [
              "1.61"
            ]
          },
          "metadata": {},
          "execution_count": 94
        }
      ]
    },
    {
      "cell_type": "code",
      "metadata": {
        "colab": {
          "base_uri": "https://localhost:8080/"
        },
        "id": "yI1qfeWcGEpt",
        "outputId": "656ccdd8-e509-493d-99df-fa6f93936ed0"
      },
      "source": [
        "# Stochastic Gradient Descent\n",
        "\n",
        "sgd = SGDClassifier()\n",
        "sgd.fit(x_train, y_train)\n",
        "Y_pred = sgd.predict(x_test)\n",
        "acc_sgd = round(sgd.score(x_train, y_train) * 100, 2)\n",
        "acc_sgd"
      ],
      "execution_count": 97,
      "outputs": [
        {
          "output_type": "execute_result",
          "data": {
            "text/plain": [
              "0.81"
            ]
          },
          "metadata": {},
          "execution_count": 97
        }
      ]
    },
    {
      "cell_type": "code",
      "metadata": {
        "colab": {
          "base_uri": "https://localhost:8080/"
        },
        "id": "8wFGVxlNGUKv",
        "outputId": "066ef4ff-5c32-4eb3-a8de-51dc966c27ab"
      },
      "source": [
        "# Decision Tree\n",
        "\n",
        "decision_tree = DecisionTreeClassifier()\n",
        "decision_tree.fit(x_train, y_train)\n",
        "Y_pred = decision_tree.predict(x_test)\n",
        "acc_decision_tree = round(decision_tree.score(x_train, y_train) * 100, 2)\n",
        "acc_decision_tree"
      ],
      "execution_count": 100,
      "outputs": [
        {
          "output_type": "execute_result",
          "data": {
            "text/plain": [
              "99.19"
            ]
          },
          "metadata": {},
          "execution_count": 100
        }
      ]
    },
    {
      "cell_type": "code",
      "metadata": {
        "colab": {
          "base_uri": "https://localhost:8080/"
        },
        "id": "QclYRTPzGpz4",
        "outputId": "4b5479b4-ffa2-4c4e-d36e-48d95a913353"
      },
      "source": [
        "# Random Forest\n",
        "\n",
        "random_forest = RandomForestClassifier(n_estimators=100)\n",
        "random_forest.fit(x_train, y_train)\n",
        "Y_pred = random_forest.predict(x_test)\n",
        "random_forest.score(x_train, y_train)\n",
        "acc_random_forest = round(random_forest.score(x_train, y_train) * 100, 2)\n",
        "acc_random_forest"
      ],
      "execution_count": 101,
      "outputs": [
        {
          "output_type": "execute_result",
          "data": {
            "text/plain": [
              "99.19"
            ]
          },
          "metadata": {},
          "execution_count": 101
        }
      ]
    },
    {
      "cell_type": "code",
      "metadata": {
        "colab": {
          "base_uri": "https://localhost:8080/",
          "height": 328
        },
        "id": "N5q4k5sKHJds",
        "outputId": "d2347c57-f138-463b-a541-37469404eb7e"
      },
      "source": [
        "models = pd.DataFrame({\n",
        "    'Model': ['Support Vector Machines', 'KNN', 'Logistic Regression', \n",
        "              'Random Forest', 'Naive Bayes', 'Perceptron', \n",
        "              'Stochastic Gradient Decent', 'Linear SVC', \n",
        "              'Decision Tree'],\n",
        "    'Score': [acc_svc, acc_knn, acc_log, \n",
        "              acc_random_forest, acc_gaussian, acc_perceptron, \n",
        "              acc_sgd, acc_linear_svc, acc_decision_tree]})\n",
        "models.sort_values(by='Score', ascending=False)"
      ],
      "execution_count": 102,
      "outputs": [
        {
          "output_type": "execute_result",
          "data": {
            "text/html": [
              "<div>\n",
              "<style scoped>\n",
              "    .dataframe tbody tr th:only-of-type {\n",
              "        vertical-align: middle;\n",
              "    }\n",
              "\n",
              "    .dataframe tbody tr th {\n",
              "        vertical-align: top;\n",
              "    }\n",
              "\n",
              "    .dataframe thead th {\n",
              "        text-align: right;\n",
              "    }\n",
              "</style>\n",
              "<table border=\"1\" class=\"dataframe\">\n",
              "  <thead>\n",
              "    <tr style=\"text-align: right;\">\n",
              "      <th></th>\n",
              "      <th>Model</th>\n",
              "      <th>Score</th>\n",
              "    </tr>\n",
              "  </thead>\n",
              "  <tbody>\n",
              "    <tr>\n",
              "      <th>1</th>\n",
              "      <td>KNN</td>\n",
              "      <td>99.193548</td>\n",
              "    </tr>\n",
              "    <tr>\n",
              "      <th>3</th>\n",
              "      <td>Random Forest</td>\n",
              "      <td>99.190000</td>\n",
              "    </tr>\n",
              "    <tr>\n",
              "      <th>8</th>\n",
              "      <td>Decision Tree</td>\n",
              "      <td>99.190000</td>\n",
              "    </tr>\n",
              "    <tr>\n",
              "      <th>4</th>\n",
              "      <td>Naive Bayes</td>\n",
              "      <td>82.260000</td>\n",
              "    </tr>\n",
              "    <tr>\n",
              "      <th>2</th>\n",
              "      <td>Logistic Regression</td>\n",
              "      <td>14.520000</td>\n",
              "    </tr>\n",
              "    <tr>\n",
              "      <th>0</th>\n",
              "      <td>Support Vector Machines</td>\n",
              "      <td>9.677420</td>\n",
              "    </tr>\n",
              "    <tr>\n",
              "      <th>7</th>\n",
              "      <td>Linear SVC</td>\n",
              "      <td>1.610000</td>\n",
              "    </tr>\n",
              "    <tr>\n",
              "      <th>5</th>\n",
              "      <td>Perceptron</td>\n",
              "      <td>0.810000</td>\n",
              "    </tr>\n",
              "    <tr>\n",
              "      <th>6</th>\n",
              "      <td>Stochastic Gradient Decent</td>\n",
              "      <td>0.810000</td>\n",
              "    </tr>\n",
              "  </tbody>\n",
              "</table>\n",
              "</div>"
            ],
            "text/plain": [
              "                        Model      Score\n",
              "1                         KNN  99.193548\n",
              "3               Random Forest  99.190000\n",
              "8               Decision Tree  99.190000\n",
              "4                 Naive Bayes  82.260000\n",
              "2         Logistic Regression  14.520000\n",
              "0     Support Vector Machines   9.677420\n",
              "7                  Linear SVC   1.610000\n",
              "5                  Perceptron   0.810000\n",
              "6  Stochastic Gradient Decent   0.810000"
            ]
          },
          "metadata": {},
          "execution_count": 102
        }
      ]
    }
  ]
}