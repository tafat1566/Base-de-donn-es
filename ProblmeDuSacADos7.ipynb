{
  "nbformat": 4,
  "nbformat_minor": 0,
  "metadata": {
    "colab": {
      "name": "ProblmeDuSacADos7.ipynb",
      "provenance": [],
      "collapsed_sections": [],
      "authorship_tag": "ABX9TyMqxr/2MM2qZU7LIB9jbtL2",
      "include_colab_link": true
    },
    "kernelspec": {
      "name": "python3",
      "display_name": "Python 3"
    },
    "language_info": {
      "name": "python"
    }
  },
  "cells": [
    {
      "cell_type": "markdown",
      "metadata": {
        "id": "view-in-github",
        "colab_type": "text"
      },
      "source": [
        "<a href=\"https://colab.research.google.com/github/tafataghiles/Base-de-donn-es/blob/master/ProblmeDuSacADos7.ipynb\" target=\"_parent\"><img src=\"https://colab.research.google.com/assets/colab-badge.svg\" alt=\"Open In Colab\"/></a>"
      ]
    },
    {
      "cell_type": "markdown",
      "metadata": {
        "id": "ii15S8J0-RhB"
      },
      "source": [
        "**Dictionaire**\n",
        "* Nom de l'objet\n",
        "* Valeur de l'objet\n",
        "* Masse de l'objet\n",
        "* Salut"
      ]
    },
    {
      "cell_type": "code",
      "metadata": {
        "id": "O4vuIpZQa6jJ"
      },
      "source": [
        "import time\n",
        "import random\n",
        "import matplotlib.pyplot as plt\n",
        "from statistics import *\n",
        "import seaborn as sns"
      ],
      "execution_count": 146,
      "outputs": []
    },
    {
      "cell_type": "code",
      "metadata": {
        "id": "JeUCHlZgVeuq"
      },
      "source": [
        " \n",
        "def GenererDic(n):\n",
        "  \n",
        "  dic1=[{\"nom\":str(0),\"valeur\":str(random.randint(1,500)),\"masse\":str(random.randint(1,100))}]\n",
        "  dicv=[]\n",
        "  for i in range(n):\n",
        "    dic1=[{\"nom\":str(i),\"valeur\":str(random.randint(1,500)),\"masse\":str(random.randint(1,100))}]\n",
        "    dicv=dicv+dic1\n",
        "  return dicv\n",
        "\n"
      ],
      "execution_count": 234,
      "outputs": []
    },
    {
      "cell_type": "code",
      "metadata": {
        "id": "looYysKxY3XC"
      },
      "source": [
        "liste_objets = GenererDic(100)"
      ],
      "execution_count": 235,
      "outputs": []
    },
    {
      "cell_type": "code",
      "metadata": {
        "colab": {
          "base_uri": "https://localhost:8080/"
        },
        "id": "Gxbw6DuWZgKe",
        "outputId": "a2c23d51-d315-4870-a853-ff5ef2409713"
      },
      "source": [
        "liste_objets"
      ],
      "execution_count": 236,
      "outputs": [
        {
          "output_type": "execute_result",
          "data": {
            "text/plain": [
              "[{'masse': '27', 'nom': '0', 'valeur': '450'},\n",
              " {'masse': '30', 'nom': '1', 'valeur': '283'},\n",
              " {'masse': '5', 'nom': '2', 'valeur': '30'},\n",
              " {'masse': '25', 'nom': '3', 'valeur': '233'},\n",
              " {'masse': '27', 'nom': '4', 'valeur': '143'},\n",
              " {'masse': '55', 'nom': '5', 'valeur': '431'},\n",
              " {'masse': '14', 'nom': '6', 'valeur': '178'},\n",
              " {'masse': '63', 'nom': '7', 'valeur': '399'},\n",
              " {'masse': '35', 'nom': '8', 'valeur': '270'},\n",
              " {'masse': '68', 'nom': '9', 'valeur': '265'},\n",
              " {'masse': '79', 'nom': '10', 'valeur': '439'},\n",
              " {'masse': '9', 'nom': '11', 'valeur': '330'},\n",
              " {'masse': '31', 'nom': '12', 'valeur': '242'},\n",
              " {'masse': '93', 'nom': '13', 'valeur': '164'},\n",
              " {'masse': '30', 'nom': '14', 'valeur': '93'},\n",
              " {'masse': '52', 'nom': '15', 'valeur': '188'},\n",
              " {'masse': '51', 'nom': '16', 'valeur': '265'},\n",
              " {'masse': '45', 'nom': '17', 'valeur': '14'},\n",
              " {'masse': '53', 'nom': '18', 'valeur': '10'},\n",
              " {'masse': '58', 'nom': '19', 'valeur': '172'},\n",
              " {'masse': '88', 'nom': '20', 'valeur': '153'},\n",
              " {'masse': '33', 'nom': '21', 'valeur': '151'},\n",
              " {'masse': '62', 'nom': '22', 'valeur': '338'},\n",
              " {'masse': '47', 'nom': '23', 'valeur': '304'},\n",
              " {'masse': '34', 'nom': '24', 'valeur': '43'},\n",
              " {'masse': '77', 'nom': '25', 'valeur': '469'},\n",
              " {'masse': '28', 'nom': '26', 'valeur': '75'},\n",
              " {'masse': '53', 'nom': '27', 'valeur': '110'},\n",
              " {'masse': '94', 'nom': '28', 'valeur': '273'},\n",
              " {'masse': '9', 'nom': '29', 'valeur': '383'},\n",
              " {'masse': '26', 'nom': '30', 'valeur': '467'},\n",
              " {'masse': '7', 'nom': '31', 'valeur': '11'},\n",
              " {'masse': '11', 'nom': '32', 'valeur': '7'},\n",
              " {'masse': '63', 'nom': '33', 'valeur': '32'},\n",
              " {'masse': '15', 'nom': '34', 'valeur': '145'},\n",
              " {'masse': '25', 'nom': '35', 'valeur': '263'},\n",
              " {'masse': '38', 'nom': '36', 'valeur': '358'},\n",
              " {'masse': '23', 'nom': '37', 'valeur': '91'},\n",
              " {'masse': '23', 'nom': '38', 'valeur': '165'},\n",
              " {'masse': '80', 'nom': '39', 'valeur': '250'},\n",
              " {'masse': '75', 'nom': '40', 'valeur': '160'},\n",
              " {'masse': '24', 'nom': '41', 'valeur': '446'},\n",
              " {'masse': '6', 'nom': '42', 'valeur': '410'},\n",
              " {'masse': '70', 'nom': '43', 'valeur': '87'},\n",
              " {'masse': '35', 'nom': '44', 'valeur': '372'},\n",
              " {'masse': '69', 'nom': '45', 'valeur': '114'},\n",
              " {'masse': '49', 'nom': '46', 'valeur': '232'},\n",
              " {'masse': '51', 'nom': '47', 'valeur': '40'},\n",
              " {'masse': '18', 'nom': '48', 'valeur': '299'},\n",
              " {'masse': '4', 'nom': '49', 'valeur': '49'},\n",
              " {'masse': '54', 'nom': '50', 'valeur': '259'},\n",
              " {'masse': '85', 'nom': '51', 'valeur': '402'},\n",
              " {'masse': '61', 'nom': '52', 'valeur': '370'},\n",
              " {'masse': '56', 'nom': '53', 'valeur': '461'},\n",
              " {'masse': '86', 'nom': '54', 'valeur': '134'},\n",
              " {'masse': '6', 'nom': '55', 'valeur': '429'},\n",
              " {'masse': '97', 'nom': '56', 'valeur': '195'},\n",
              " {'masse': '77', 'nom': '57', 'valeur': '226'},\n",
              " {'masse': '100', 'nom': '58', 'valeur': '106'},\n",
              " {'masse': '87', 'nom': '59', 'valeur': '460'},\n",
              " {'masse': '71', 'nom': '60', 'valeur': '387'},\n",
              " {'masse': '14', 'nom': '61', 'valeur': '112'},\n",
              " {'masse': '15', 'nom': '62', 'valeur': '442'},\n",
              " {'masse': '78', 'nom': '63', 'valeur': '412'},\n",
              " {'masse': '47', 'nom': '64', 'valeur': '132'},\n",
              " {'masse': '69', 'nom': '65', 'valeur': '87'},\n",
              " {'masse': '35', 'nom': '66', 'valeur': '83'},\n",
              " {'masse': '71', 'nom': '67', 'valeur': '198'},\n",
              " {'masse': '5', 'nom': '68', 'valeur': '402'},\n",
              " {'masse': '62', 'nom': '69', 'valeur': '312'},\n",
              " {'masse': '11', 'nom': '70', 'valeur': '233'},\n",
              " {'masse': '37', 'nom': '71', 'valeur': '115'},\n",
              " {'masse': '95', 'nom': '72', 'valeur': '467'},\n",
              " {'masse': '64', 'nom': '73', 'valeur': '153'},\n",
              " {'masse': '72', 'nom': '74', 'valeur': '124'},\n",
              " {'masse': '38', 'nom': '75', 'valeur': '21'},\n",
              " {'masse': '53', 'nom': '76', 'valeur': '49'},\n",
              " {'masse': '17', 'nom': '77', 'valeur': '110'},\n",
              " {'masse': '59', 'nom': '78', 'valeur': '67'},\n",
              " {'masse': '54', 'nom': '79', 'valeur': '79'},\n",
              " {'masse': '51', 'nom': '80', 'valeur': '90'},\n",
              " {'masse': '95', 'nom': '81', 'valeur': '496'},\n",
              " {'masse': '39', 'nom': '82', 'valeur': '82'},\n",
              " {'masse': '93', 'nom': '83', 'valeur': '475'},\n",
              " {'masse': '9', 'nom': '84', 'valeur': '266'},\n",
              " {'masse': '43', 'nom': '85', 'valeur': '397'},\n",
              " {'masse': '58', 'nom': '86', 'valeur': '389'},\n",
              " {'masse': '11', 'nom': '87', 'valeur': '79'},\n",
              " {'masse': '95', 'nom': '88', 'valeur': '476'},\n",
              " {'masse': '29', 'nom': '89', 'valeur': '46'},\n",
              " {'masse': '7', 'nom': '90', 'valeur': '403'},\n",
              " {'masse': '61', 'nom': '91', 'valeur': '404'},\n",
              " {'masse': '7', 'nom': '92', 'valeur': '428'},\n",
              " {'masse': '38', 'nom': '93', 'valeur': '115'},\n",
              " {'masse': '88', 'nom': '94', 'valeur': '56'},\n",
              " {'masse': '65', 'nom': '95', 'valeur': '489'},\n",
              " {'masse': '91', 'nom': '96', 'valeur': '401'},\n",
              " {'masse': '22', 'nom': '97', 'valeur': '75'},\n",
              " {'masse': '39', 'nom': '98', 'valeur': '392'},\n",
              " {'masse': '77', 'nom': '99', 'valeur': '297'}]"
            ]
          },
          "metadata": {},
          "execution_count": 236
        }
      ]
    },
    {
      "cell_type": "code",
      "metadata": {
        "id": "XS8ZkWZ0veuD"
      },
      "source": [
        "#liste_objets=[{\"nom\":\"A\", \"valeur\":\"1\", \"masse\":\"1\"},{\"nom\":\"B\", \"valeur\":\"6\", \"masse\":\"2\"},{\"nom\":\"C\", \"valeur\":\"10\", \"masse\":\"3\"},{\"nom\":\"D\", \"valeur\":\"16\", \"masse\":\"5\"}]       "
      ],
      "execution_count": 228,
      "outputs": []
    },
    {
      "cell_type": "markdown",
      "metadata": {
        "id": "5uyHaeM2D-CC"
      },
      "source": [
        "**La fonction Ajout_Ratio():**\n",
        "  Permet de calculer la l'utilité massique ui/mi et de le rajouter a notre dictionnaire \n"
      ]
    },
    {
      "cell_type": "code",
      "metadata": {
        "id": "kQWZeY1sC78H"
      },
      "source": [
        "#on rajoute a notre liste_objets le ratio ui/mi\n",
        "def Ajout_Ratio(liste_objets):\n",
        "  for objet in liste_objets:\n",
        "    objet[\"u_m\"]=eval(objet[\"valeur\"])/eval(objet[\"masse\"])\n",
        "  return liste_objets"
      ],
      "execution_count": 237,
      "outputs": []
    },
    {
      "cell_type": "code",
      "metadata": {
        "id": "9lfewszjxstT"
      },
      "source": [
        "l=Ajout_Ratio(liste_objets)"
      ],
      "execution_count": 28,
      "outputs": []
    },
    {
      "cell_type": "code",
      "metadata": {
        "colab": {
          "base_uri": "https://localhost:8080/"
        },
        "id": "mj2z-ImryuUo",
        "outputId": "4a20d68e-d4c8-4af2-99a0-8e9f03b1910c"
      },
      "source": [
        "l"
      ],
      "execution_count": 29,
      "outputs": [
        {
          "output_type": "execute_result",
          "data": {
            "text/plain": [
              "[{'masse': '86', 'nom': '0', 'u_m': 1.5348837209302326, 'valeur': '132'},\n",
              " {'masse': '59', 'nom': '1', 'u_m': 5.322033898305085, 'valeur': '314'},\n",
              " {'masse': '64', 'nom': '2', 'u_m': 1.953125, 'valeur': '125'},\n",
              " {'masse': '88', 'nom': '3', 'u_m': 4.75, 'valeur': '418'},\n",
              " {'masse': '4', 'nom': '4', 'u_m': 107.75, 'valeur': '431'},\n",
              " {'masse': '64', 'nom': '5', 'u_m': 5.203125, 'valeur': '333'},\n",
              " {'masse': '81', 'nom': '6', 'u_m': 3.111111111111111, 'valeur': '252'},\n",
              " {'masse': '58', 'nom': '7', 'u_m': 8.0, 'valeur': '464'},\n",
              " {'masse': '6', 'nom': '8', 'u_m': 42.0, 'valeur': '252'},\n",
              " {'masse': '25', 'nom': '9', 'u_m': 14.28, 'valeur': '357'}]"
            ]
          },
          "metadata": {},
          "execution_count": 29
        }
      ]
    },
    {
      "cell_type": "markdown",
      "metadata": {
        "id": "Vgnz2kFd84a7"
      },
      "source": [
        "**Tester si le poids totatl des élément rangés dans le sac ne depasse pas la capcité du sac**"
      ]
    },
    {
      "cell_type": "code",
      "metadata": {
        "id": "R2a6v-o_9Q2J"
      },
      "source": [
        ""
      ],
      "execution_count": null,
      "outputs": []
    },
    {
      "cell_type": "code",
      "metadata": {
        "id": "EPlEXZkp82VV"
      },
      "source": [
        "def TestU(Pt,Capacite,liste_objets):\n",
        "\n",
        "  for objet in liste_objets:\n",
        "    assert eval(objet[\"masse\"]), 'la masse ne pas être inferieur à '\n",
        "  assert Pt>Capacite,'La somme des poids dans le sac ne doit pas depassé la capacité du sac'\n"
      ],
      "execution_count": 238,
      "outputs": []
    },
    {
      "cell_type": "code",
      "metadata": {
        "id": "Dy0E9Qs3_QYY"
      },
      "source": [
        "# Solution approchée - Algorithme glouton\n",
        "def sacADos_naif(capacite, liste_objets):\n",
        "  \n",
        "    poids_total=0\n",
        "    i=0\n",
        "    Ajout_Ratio(liste_objets)\n",
        "    #Trier la liste des objets selon l'utilité massique en utilisant la fonction sorted\n",
        "    \n",
        "    liste_objets_T = sorted(liste_objets, key=lambda x: x[\"u_m\"])\n",
        "\n",
        "    #Inverser la liste triée (ordre décroissant)\n",
        "    liste_objets_T.reverse()\n",
        "\n",
        "\n",
        "    Objets_selection = []\n",
        "    poids_total = 0\n",
        "    n= len(liste_objets_T)\n",
        "    for i in range(n):\n",
        "        if eval(liste_objets_T[i][\"masse\"]) + poids_total <= capacite:\n",
        "          poids_total +=eval(liste_objets_T[i][\"masse\"])\n",
        "          Objets_selection.append((liste_objets_T[i][\"nom\"]))\n",
        "    return( Objets_selection),poids_total\n",
        "            "
      ],
      "execution_count": 241,
      "outputs": []
    },
    {
      "cell_type": "code",
      "metadata": {
        "id": "NbVs9QOh3iwz"
      },
      "source": [
        "l,p=sacADos_naif(15,liste_objets)\n"
      ],
      "execution_count": 242,
      "outputs": []
    },
    {
      "cell_type": "code",
      "metadata": {
        "colab": {
          "base_uri": "https://localhost:8080/"
        },
        "id": "8j2JRfX7_ZWe",
        "outputId": "7a9f60f7-1c71-4457-9be0-49a12208411d"
      },
      "source": [
        "p"
      ],
      "execution_count": 243,
      "outputs": [
        {
          "output_type": "execute_result",
          "data": {
            "text/plain": [
              "15"
            ]
          },
          "metadata": {},
          "execution_count": 243
        }
      ]
    },
    {
      "cell_type": "code",
      "metadata": {
        "id": "G-ukp-KG_Apm"
      },
      "source": [
        "TestU(p,10,liste_objets)"
      ],
      "execution_count": 244,
      "outputs": []
    },
    {
      "cell_type": "code",
      "metadata": {
        "colab": {
          "base_uri": "https://localhost:8080/"
        },
        "id": "lSN9y6bG-LAU",
        "outputId": "43eed8d4-1f2d-4ebb-a40c-b39c0c0c9729"
      },
      "source": [
        ""
      ],
      "execution_count": 200,
      "outputs": [
        {
          "output_type": "execute_result",
          "data": {
            "text/plain": [
              "['783', '216', '716', '315', '611', '178']"
            ]
          },
          "metadata": {},
          "execution_count": 200
        }
      ]
    },
    {
      "cell_type": "code",
      "metadata": {
        "id": "1740ziV4M-gX"
      },
      "source": [
        "def ListXY(n):\n",
        "\n",
        "  x=[]\n",
        "  y=[]\n",
        "  k=n\n",
        "  for i in range (n):\n",
        "  \n",
        "    liste_objets=(GenererDic(k))\n",
        "    start_time = time.time()\n",
        "    sacADos_naif(k, liste_objets)\n",
        "    end_time=time.time()\n",
        "    k=k+100\n",
        "    y.append(end_time-start_time)\n",
        "    x.append(k)\n",
        "    #print(end_time-start_time)\n",
        "  return x,y\n",
        "  \n",
        "\n"
      ],
      "execution_count": 245,
      "outputs": []
    },
    {
      "cell_type": "code",
      "metadata": {
        "id": "cQtUZeX0uqGx"
      },
      "source": [
        "X,Y=ListXY(10)"
      ],
      "execution_count": 246,
      "outputs": []
    },
    {
      "cell_type": "code",
      "metadata": {
        "id": "mnXY1EdylfQs"
      },
      "source": [
        "def AfficherGraphe(n):\n",
        "  X,Y=ListXY(n)\n",
        "  sns.set_theme(style=\"whitegrid\")\n",
        "  ax=sns.lineplot(Y, X)\n",
        "  ax.set(xlabel='temps dexecution', ylabel='taille du problème')\n",
        "  plt.show()\n"
      ],
      "execution_count": 247,
      "outputs": []
    },
    {
      "cell_type": "code",
      "metadata": {
        "colab": {
          "base_uri": "https://localhost:8080/",
          "height": 509
        },
        "id": "oZol6guJvGdS",
        "outputId": "5b0c25ef-5761-41f4-e746-5327bf85fbdc"
      },
      "source": [
        "AfficherGraphe(100)"
      ],
      "execution_count": 155,
      "outputs": [
        {
          "output_type": "stream",
          "name": "stdout",
          "text": [
            "0.002084016799926758\n",
            "0.0037767887115478516\n",
            "0.003452301025390625\n",
            "0.0045926570892333984\n",
            "0.006036043167114258\n",
            "0.007048606872558594\n",
            "0.012281656265258789\n",
            "0.009405136108398438\n",
            "0.010373115539550781\n",
            "0.012926816940307617\n"
          ]
        },
        {
          "output_type": "stream",
          "name": "stderr",
          "text": [
            "/usr/local/lib/python3.7/dist-packages/seaborn/_decorators.py:43: FutureWarning: Pass the following variables as keyword args: x, y. From version 0.12, the only valid positional argument will be `data`, and passing other arguments without an explicit keyword will result in an error or misinterpretation.\n",
            "  FutureWarning\n"
          ]
        },
        {
          "output_type": "display_data",
          "data": {
            "image/png": "[encoded data removed]",
            "text/plain": [
              "<Figure size 432x288 with 1 Axes>"
            ]
          },
          "metadata": {}
        }
      ]
    },
    {
      "cell_type": "code",
      "metadata": {
        "id": "5JQtS3E2r6oJ"
      },
      "source": [
        "liste_objets=(GenererDic(1000))"
      ],
      "execution_count": 125,
      "outputs": []
    },
    {
      "cell_type": "code",
      "metadata": {
        "colab": {
          "base_uri": "https://localhost:8080/",
          "height": 356
        },
        "id": "7m_U9apRr-yV",
        "outputId": "d3ea13b9-cffe-4115-c62a-b5bacd0dceca"
      },
      "source": [
        "PerformanceAlgo(10,10,liste_objets)"
      ],
      "execution_count": 127,
      "outputs": [
        {
          "output_type": "stream",
          "name": "stdout",
          "text": [
            "[1010, 1010, 1010, 1010, 1010, 1010, 1010, 1010, 1010, 1010] [0.018907546997070312, 0.011554718017578125, 0.011843442916870117, 0.011497974395751953, 0.011451959609985352, 0.011690616607666016, 0.011873006820678711, 0.011649847030639648, 0.011602640151977539, 0.011618852615356445]\n"
          ]
        },
        {
          "output_type": "stream",
          "name": "stderr",
          "text": [
            "/usr/local/lib/python3.7/dist-packages/seaborn/_decorators.py:43: FutureWarning: Pass the following variables as keyword args: x, y. From version 0.12, the only valid positional argument will be `data`, and passing other arguments without an explicit keyword will result in an error or misinterpretation.\n",
            "  FutureWarning\n"
          ]
        },
        {
          "output_type": "display_data",
          "data": {
            "image/png": "[encoded data removed]",
            "text/plain": [
              "<Figure size 432x288 with 1 Axes>"
            ]
          },
          "metadata": {}
        }
      ]
    },
    {
      "cell_type": "code",
      "metadata": {
        "colab": {
          "base_uri": "https://localhost:8080/"
        },
        "id": "X18xdUoZbSf3",
        "outputId": "b75ed679-6144-4fae-a77f-42c74dbcf3fd"
      },
      "source": [
        "\n",
        "print(end_time-start_time)"
      ],
      "execution_count": 45,
      "outputs": [
        {
          "output_type": "stream",
          "name": "stdout",
          "text": [
            "0.002122640609741211\n"
          ]
        }
      ]
    },
    {
      "cell_type": "markdown",
      "metadata": {
        "id": "9KMceXcmv8CT"
      },
      "source": [
        ""
      ]
    }
  ]
}