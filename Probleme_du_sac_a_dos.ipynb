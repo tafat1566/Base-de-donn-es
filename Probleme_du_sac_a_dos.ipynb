{
  "nbformat": 4,
  "nbformat_minor": 0,
  "metadata": {
    "colab": {
      "name": "Probleme_du_sac_a_dos.ipynb",
      "provenance": [],
      "collapsed_sections": [],
      "authorship_tag": "ABX9TyOU3VBdxBgKiuq2pX9LTV3w",
      "include_colab_link": true
    },
    "kernelspec": {
      "name": "python3",
      "display_name": "Python 3"
    },
    "language_info": {
      "name": "python"
    }
  },
  "cells": [
    {
      "cell_type": "markdown",
      "metadata": {
        "id": "view-in-github",
        "colab_type": "text"
      },
      "source": [
        "<a href=\"https://colab.research.google.com/github/tafataghiles/Base-de-donn-es/blob/master/Probleme_du_sac_a_dos.ipynb\" target=\"_parent\"><img src=\"https://colab.research.google.com/assets/colab-badge.svg\" alt=\"Open In Colab\"/></a>"
      ]
    },
    {
      "cell_type": "markdown",
      "metadata": {
        "id": "ii15S8J0-RhB"
      },
      "source": [
        "**Dictionaire**\n",
        "* Nom de l'objet\n",
        "* Valeur de l'objet\n",
        "* Masse de l'objet\n",
        "* Salut"
      ]
    },
    {
      "cell_type": "code",
      "metadata": {
        "id": "XS8ZkWZ0veuD"
      },
      "source": [
        "liste_objets=[{\"nom\":\"A\", \"valeur\":\"10\", \"masse\":\"8\"},{\"nom\":\"B\", \"valeur\":\"5\", \"masse\":\"8\"},{\"nom\":\"C\", \"valeur\":\"14\", \"masse\":\"6\"},{\"nom\":\"D\", \"valeur\":\"5\", \"masse\":\"12\"}]       "
      ],
      "execution_count": 1,
      "outputs": []
    },
    {
      "cell_type": "code",
      "metadata": {
        "colab": {
          "base_uri": "https://localhost:8080/"
        },
        "id": "Nqph_fld-Ku9",
        "outputId": "765e94a9-71d3-4f1c-ac32-598f00c00efb"
      },
      "source": [
        "liste_objets"
      ],
      "execution_count": null,
      "outputs": [
        {
          "output_type": "execute_result",
          "data": {
            "text/plain": [
              "[{'masse': '8', 'nom': 'A', 'valeur': '10'},\n",
              " {'masse': '8', 'nom': 'B', 'valeur': '5'},\n",
              " {'masse': '6', 'nom': 'C', 'valeur': '14'},\n",
              " {'masse': '12', 'nom': 'D', 'valeur': '5'}]"
            ]
          },
          "metadata": {},
          "execution_count": 28
        }
      ]
    },
    {
      "cell_type": "markdown",
      "metadata": {
        "id": "5uyHaeM2D-CC"
      },
      "source": [
        "**La fonction Ajout_Ratio():**\n",
        "  Permet de calculer la l'utilité massique ui/mi et de le rajouter a notre dictionnaire \n"
      ]
    },
    {
      "cell_type": "code",
      "metadata": {
        "id": "kQWZeY1sC78H"
      },
      "source": [
        "#on rajoute a notre liste_objets le ratio ui/mi\n",
        "def Ajout_Ratio(liste_objets):\n",
        "  for objet in liste_objets:\n",
        "    objet[\"u_m\"]=eval(objet[\"valeur\"])/eval(objet[\"masse\"])\n",
        "  return liste_objets"
      ],
      "execution_count": null,
      "outputs": []
    },
    {
      "cell_type": "code",
      "metadata": {
        "id": "9lfewszjxstT"
      },
      "source": [
        "l=Ajout_Ratio(liste_objets)"
      ],
      "execution_count": null,
      "outputs": []
    },
    {
      "cell_type": "code",
      "metadata": {
        "colab": {
          "base_uri": "https://localhost:8080/"
        },
        "id": "mj2z-ImryuUo",
        "outputId": "4faf5d41-7142-4650-98c5-b432b6e1b2de"
      },
      "source": [
        "l"
      ],
      "execution_count": null,
      "outputs": [
        {
          "output_type": "execute_result",
          "data": {
            "text/plain": [
              "[{'masse': '8', 'nom': 'A', 'u_m': 1.25, 'valeur': '10'},\n",
              " {'masse': '8', 'nom': 'B', 'u_m': 0.625, 'valeur': '5'},\n",
              " {'masse': '6', 'nom': 'C', 'u_m': 2.3333333333333335, 'valeur': '14'},\n",
              " {'masse': '12', 'nom': 'D', 'u_m': 0.4166666666666667, 'valeur': '5'}]"
            ]
          },
          "metadata": {},
          "execution_count": 32
        }
      ]
    },
    {
      "cell_type": "code",
      "metadata": {
        "id": "Dy0E9Qs3_QYY"
      },
      "source": [
        "# Solution approchée - Algorithme glouton\n",
        "def sacADos_naif(capacite, liste_objets):\n",
        "  \n",
        "    poids_total=0\n",
        "    i=0\n",
        "    Ajout_Ratio(liste_objets)\n",
        "    #Trier la liste des objets selon l'utilité massique en utilisant la fonction sorted\n",
        "    \n",
        "    liste_objets_T = sorted(liste_objets, key=lambda x: x[\"u_m\"])\n",
        "\n",
        "    #Inverser la liste triée (ordre décroissant)\n",
        "    liste_objets_T.reverse()\n",
        "\n",
        "\n",
        "    Objets_selection = []\n",
        "    poids_total = 0\n",
        "\n",
        "    while i< len(liste_objets_T):\n",
        "\n",
        "        if eval(liste_objets_T[i][\"masse\"]) + poids_total <= capacite:\n",
        "          poids_total +=eval(objet[i][\"masse\"])\n",
        "          Objets_selection.append(eval(liste_objets_T[i][\"nom\"]))\n",
        "        i+=1\n",
        "    return Objets_selection\n",
        "            "
      ],
      "execution_count": null,
      "outputs": []
    },
    {
      "cell_type": "code",
      "metadata": {
        "colab": {
          "base_uri": "https://localhost:8080/"
        },
        "id": "1740ziV4M-gX",
        "outputId": "17ed52fc-c490-43bf-beb2-863d40d32fa6"
      },
      "source": [
        "sacADos_naif(3, liste_objets)"
      ],
      "execution_count": null,
      "outputs": [
        {
          "output_type": "stream",
          "name": "stdout",
          "text": [
            "[]\n"
          ]
        }
      ]
    },
    {
      "cell_type": "markdown",
      "metadata": {
        "id": "9KMceXcmv8CT"
      },
      "source": [
        ""
      ]
    }
  ]
}